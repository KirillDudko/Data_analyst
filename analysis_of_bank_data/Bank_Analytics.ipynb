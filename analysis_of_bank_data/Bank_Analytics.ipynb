{
 "cells": [
  {
   "cell_type": "markdown",
   "id": "93539e96-1995-4979-aa00-9f0329742ab3",
   "metadata": {},
   "source": [
    "# Исследование надежности заёмщиков"
   ]
  },
  {
   "cell_type": "markdown",
   "id": "4af8b298-ed8d-49b9-9360-9f690e1df7e5",
   "metadata": {},
   "source": [
    "**Цель исследования**  \n",
    "\n",
    "Нужно разобраться, как разные характеристика клиента влияют на факт погашения кредита в срок.    \n",
    "Результаты исследования будут учтены при построении модели кредитного скоринга — специальной системы, которая оценивает способность потенциального заёмщика вернуть кредит банку.\n",
    "\n",
    "**Заказчик**    \n",
    "\n",
    "Кредитный отдел банка.\n",
    "\n",
    "**Вопросы, на которые необходимо ответить:**    \n",
    "\n",
    "* Есть ли зависимость между количеством детей и возвратом кредита в срок?\n",
    "* Есть ли зависимость между семейным положением и возвратом кредита в срок?\n",
    "* Есть ли зависимость между уровнем дохода и возвратом кредита в срок?\n",
    "* Как разные цели кредита влияют на его возврат в срок?\n",
    "\n",
    "**Ход исследования**    \n",
    "\n",
    "Входные данные от банка — статистика о платёжеспособности клиентов, файл `data.csv`.    \n",
    "О качестве данных ничего не известно. Поэтому перед проверкой гипотез понадобится обзор данных.\n",
    "\n",
    "Мы проверим данные на ошибки и оценим их влияние на исследование. Затем, на этапе предобработки поищем возможность исправить самые критичные ошибки.\n",
    "\n",
    "Таким образом, исследование пройдёт в три этапа:\n",
    "\n",
    "* Обзор данных.\n",
    "* Предобработка данных.\n",
    "* Ответы на вопросы."
   ]
  },
  {
   "cell_type": "markdown",
   "id": "e292b3ae-4739-48b4-b940-ee31ef8f2014",
   "metadata": {},
   "source": [
    "## Шаг 1. Обзор данных"
   ]
  },
  {
   "cell_type": "code",
   "execution_count": 1,
   "id": "62f8b8f8-8331-47fe-b3b6-527f68624bbc",
   "metadata": {},
   "outputs": [],
   "source": [
    "# импорт библиотек\n",
    "\n",
    "import pandas as pd   \n",
    "import seaborn as sns    \n",
    "import matplotlib.pyplot as plt"
   ]
  },
  {
   "cell_type": "code",
   "execution_count": 2,
   "id": "c417f21f-3f58-4185-88eb-f6c84eb5fe62",
   "metadata": {},
   "outputs": [],
   "source": [
    "try:\n",
    "    df = pd.read_csv('/datasets/data.csv')\n",
    "except:\n",
    "    df = pd.read_csv('https://code.s3.yandex.net/datasets/data.csv')"
   ]
  },
  {
   "cell_type": "code",
   "execution_count": 3,
   "id": "63080f7d-79f7-449b-9bf0-f57be49d4a75",
   "metadata": {},
   "outputs": [
    {
     "data": {
      "text/html": [
       "<div>\n",
       "<style scoped>\n",
       "    .dataframe tbody tr th:only-of-type {\n",
       "        vertical-align: middle;\n",
       "    }\n",
       "\n",
       "    .dataframe tbody tr th {\n",
       "        vertical-align: top;\n",
       "    }\n",
       "\n",
       "    .dataframe thead th {\n",
       "        text-align: right;\n",
       "    }\n",
       "</style>\n",
       "<table border=\"1\" class=\"dataframe\">\n",
       "  <thead>\n",
       "    <tr style=\"text-align: right;\">\n",
       "      <th></th>\n",
       "      <th>children</th>\n",
       "      <th>days_employed</th>\n",
       "      <th>dob_years</th>\n",
       "      <th>education</th>\n",
       "      <th>education_id</th>\n",
       "      <th>family_status</th>\n",
       "      <th>family_status_id</th>\n",
       "      <th>gender</th>\n",
       "      <th>income_type</th>\n",
       "      <th>debt</th>\n",
       "      <th>total_income</th>\n",
       "      <th>purpose</th>\n",
       "    </tr>\n",
       "  </thead>\n",
       "  <tbody>\n",
       "    <tr>\n",
       "      <th>0</th>\n",
       "      <td>1</td>\n",
       "      <td>-8437.673028</td>\n",
       "      <td>42</td>\n",
       "      <td>высшее</td>\n",
       "      <td>0</td>\n",
       "      <td>женат / замужем</td>\n",
       "      <td>0</td>\n",
       "      <td>F</td>\n",
       "      <td>сотрудник</td>\n",
       "      <td>0</td>\n",
       "      <td>253875.639453</td>\n",
       "      <td>покупка жилья</td>\n",
       "    </tr>\n",
       "    <tr>\n",
       "      <th>1</th>\n",
       "      <td>1</td>\n",
       "      <td>-4024.803754</td>\n",
       "      <td>36</td>\n",
       "      <td>среднее</td>\n",
       "      <td>1</td>\n",
       "      <td>женат / замужем</td>\n",
       "      <td>0</td>\n",
       "      <td>F</td>\n",
       "      <td>сотрудник</td>\n",
       "      <td>0</td>\n",
       "      <td>112080.014102</td>\n",
       "      <td>приобретение автомобиля</td>\n",
       "    </tr>\n",
       "    <tr>\n",
       "      <th>2</th>\n",
       "      <td>0</td>\n",
       "      <td>-5623.422610</td>\n",
       "      <td>33</td>\n",
       "      <td>Среднее</td>\n",
       "      <td>1</td>\n",
       "      <td>женат / замужем</td>\n",
       "      <td>0</td>\n",
       "      <td>M</td>\n",
       "      <td>сотрудник</td>\n",
       "      <td>0</td>\n",
       "      <td>145885.952297</td>\n",
       "      <td>покупка жилья</td>\n",
       "    </tr>\n",
       "    <tr>\n",
       "      <th>3</th>\n",
       "      <td>3</td>\n",
       "      <td>-4124.747207</td>\n",
       "      <td>32</td>\n",
       "      <td>среднее</td>\n",
       "      <td>1</td>\n",
       "      <td>женат / замужем</td>\n",
       "      <td>0</td>\n",
       "      <td>M</td>\n",
       "      <td>сотрудник</td>\n",
       "      <td>0</td>\n",
       "      <td>267628.550329</td>\n",
       "      <td>дополнительное образование</td>\n",
       "    </tr>\n",
       "    <tr>\n",
       "      <th>4</th>\n",
       "      <td>0</td>\n",
       "      <td>340266.072047</td>\n",
       "      <td>53</td>\n",
       "      <td>среднее</td>\n",
       "      <td>1</td>\n",
       "      <td>гражданский брак</td>\n",
       "      <td>1</td>\n",
       "      <td>F</td>\n",
       "      <td>пенсионер</td>\n",
       "      <td>0</td>\n",
       "      <td>158616.077870</td>\n",
       "      <td>сыграть свадьбу</td>\n",
       "    </tr>\n",
       "  </tbody>\n",
       "</table>\n",
       "</div>"
      ],
      "text/plain": [
       "   children  days_employed  dob_years education  education_id  \\\n",
       "0         1   -8437.673028         42    высшее             0   \n",
       "1         1   -4024.803754         36   среднее             1   \n",
       "2         0   -5623.422610         33   Среднее             1   \n",
       "3         3   -4124.747207         32   среднее             1   \n",
       "4         0  340266.072047         53   среднее             1   \n",
       "\n",
       "      family_status  family_status_id gender income_type  debt   total_income  \\\n",
       "0   женат / замужем                 0      F   сотрудник     0  253875.639453   \n",
       "1   женат / замужем                 0      F   сотрудник     0  112080.014102   \n",
       "2   женат / замужем                 0      M   сотрудник     0  145885.952297   \n",
       "3   женат / замужем                 0      M   сотрудник     0  267628.550329   \n",
       "4  гражданский брак                 1      F   пенсионер     0  158616.077870   \n",
       "\n",
       "                      purpose  \n",
       "0               покупка жилья  \n",
       "1     приобретение автомобиля  \n",
       "2               покупка жилья  \n",
       "3  дополнительное образование  \n",
       "4             сыграть свадьбу  "
      ]
     },
     "execution_count": 3,
     "metadata": {},
     "output_type": "execute_result"
    }
   ],
   "source": [
    "df.head()    # выводим на просмотр первые 5 строк таблицы"
   ]
  },
  {
   "cell_type": "code",
   "execution_count": 4,
   "id": "c6472e45-ed85-4b69-8502-783e233fdaa4",
   "metadata": {},
   "outputs": [
    {
     "name": "stdout",
     "output_type": "stream",
     "text": [
      "<class 'pandas.core.frame.DataFrame'>\n",
      "RangeIndex: 21525 entries, 0 to 21524\n",
      "Data columns (total 12 columns):\n",
      " #   Column            Non-Null Count  Dtype  \n",
      "---  ------            --------------  -----  \n",
      " 0   children          21525 non-null  int64  \n",
      " 1   days_employed     19351 non-null  float64\n",
      " 2   dob_years         21525 non-null  int64  \n",
      " 3   education         21525 non-null  object \n",
      " 4   education_id      21525 non-null  int64  \n",
      " 5   family_status     21525 non-null  object \n",
      " 6   family_status_id  21525 non-null  int64  \n",
      " 7   gender            21525 non-null  object \n",
      " 8   income_type       21525 non-null  object \n",
      " 9   debt              21525 non-null  int64  \n",
      " 10  total_income      19351 non-null  float64\n",
      " 11  purpose           21525 non-null  object \n",
      "dtypes: float64(2), int64(5), object(5)\n",
      "memory usage: 2.0+ MB\n"
     ]
    }
   ],
   "source": [
    "df.info()    # получение общей информации о данных в таблице df"
   ]
  },
  {
   "cell_type": "markdown",
   "id": "3b2c0055-4ca5-47d6-9986-6813491649ae",
   "metadata": {},
   "source": [
    "Итак, в таблице двенадцать столбцов. Тип данных во всех столбцах — `object`, `float` и `int`.\n",
    "\n",
    "Согласно документации к данным:\n",
    "* `children` — количество детей в семье;\n",
    "* `days_employed` — общий трудовой стаж в днях;\n",
    "* `dob_years` — возраст клиента в годах;\n",
    "* `education` — уровень образования клиента;\n",
    "* `education_id` — идентификатор уровня образования;\n",
    "* `family_status` — семейное положение;\n",
    "* `family_status_id` — идентификатор семейного положения;\n",
    "* `gender` — пол клиента;\n",
    "* `income_type` — тип занятости;\n",
    "* `debt` — имел ли задолженность по возврату кредитов;\n",
    "* `total_income` — ежемесячный доход;\n",
    "* `purpose` — цель получения кредита;\n",
    "\n",
    "Количество значений в столбцах различается. Значит, в данных есть пропущенные значения."
   ]
  },
  {
   "cell_type": "code",
   "execution_count": 14,
   "id": "2a889ee0-a0de-46c7-a4c3-def6ea0bd307",
   "metadata": {},
   "outputs": [
    {
     "data": {
      "text/html": [
       "<div>\n",
       "<style scoped>\n",
       "    .dataframe tbody tr th:only-of-type {\n",
       "        vertical-align: middle;\n",
       "    }\n",
       "\n",
       "    .dataframe tbody tr th {\n",
       "        vertical-align: top;\n",
       "    }\n",
       "\n",
       "    .dataframe thead th {\n",
       "        text-align: right;\n",
       "    }\n",
       "</style>\n",
       "<table border=\"1\" class=\"dataframe\">\n",
       "  <thead>\n",
       "    <tr style=\"text-align: right;\">\n",
       "      <th></th>\n",
       "      <th>children</th>\n",
       "      <th>days_employed</th>\n",
       "      <th>dob_years</th>\n",
       "      <th>education_id</th>\n",
       "      <th>family_status_id</th>\n",
       "      <th>debt</th>\n",
       "      <th>total_income</th>\n",
       "    </tr>\n",
       "  </thead>\n",
       "  <tbody>\n",
       "    <tr>\n",
       "      <th>count</th>\n",
       "      <td>21471.000000</td>\n",
       "      <td>19351.000000</td>\n",
       "      <td>21471.000000</td>\n",
       "      <td>21471.000000</td>\n",
       "      <td>21471.000000</td>\n",
       "      <td>21471.000000</td>\n",
       "      <td>1.935100e+04</td>\n",
       "    </tr>\n",
       "    <tr>\n",
       "      <th>mean</th>\n",
       "      <td>0.539565</td>\n",
       "      <td>63046.497661</td>\n",
       "      <td>43.279074</td>\n",
       "      <td>0.817195</td>\n",
       "      <td>0.973685</td>\n",
       "      <td>0.081086</td>\n",
       "      <td>1.674223e+05</td>\n",
       "    </tr>\n",
       "    <tr>\n",
       "      <th>std</th>\n",
       "      <td>1.382978</td>\n",
       "      <td>140827.311974</td>\n",
       "      <td>12.574291</td>\n",
       "      <td>0.548508</td>\n",
       "      <td>1.421082</td>\n",
       "      <td>0.272974</td>\n",
       "      <td>1.029716e+05</td>\n",
       "    </tr>\n",
       "    <tr>\n",
       "      <th>min</th>\n",
       "      <td>-1.000000</td>\n",
       "      <td>-18388.949901</td>\n",
       "      <td>0.000000</td>\n",
       "      <td>0.000000</td>\n",
       "      <td>0.000000</td>\n",
       "      <td>0.000000</td>\n",
       "      <td>2.066726e+04</td>\n",
       "    </tr>\n",
       "    <tr>\n",
       "      <th>25%</th>\n",
       "      <td>0.000000</td>\n",
       "      <td>-2747.423625</td>\n",
       "      <td>33.000000</td>\n",
       "      <td>1.000000</td>\n",
       "      <td>0.000000</td>\n",
       "      <td>0.000000</td>\n",
       "      <td>1.030532e+05</td>\n",
       "    </tr>\n",
       "    <tr>\n",
       "      <th>50%</th>\n",
       "      <td>0.000000</td>\n",
       "      <td>-1203.369529</td>\n",
       "      <td>42.000000</td>\n",
       "      <td>1.000000</td>\n",
       "      <td>0.000000</td>\n",
       "      <td>0.000000</td>\n",
       "      <td>1.450179e+05</td>\n",
       "    </tr>\n",
       "    <tr>\n",
       "      <th>75%</th>\n",
       "      <td>1.000000</td>\n",
       "      <td>-291.095954</td>\n",
       "      <td>53.000000</td>\n",
       "      <td>1.000000</td>\n",
       "      <td>1.000000</td>\n",
       "      <td>0.000000</td>\n",
       "      <td>2.034351e+05</td>\n",
       "    </tr>\n",
       "    <tr>\n",
       "      <th>max</th>\n",
       "      <td>20.000000</td>\n",
       "      <td>401755.400475</td>\n",
       "      <td>75.000000</td>\n",
       "      <td>4.000000</td>\n",
       "      <td>4.000000</td>\n",
       "      <td>1.000000</td>\n",
       "      <td>2.265604e+06</td>\n",
       "    </tr>\n",
       "  </tbody>\n",
       "</table>\n",
       "</div>"
      ],
      "text/plain": [
       "           children  days_employed     dob_years  education_id  \\\n",
       "count  21471.000000   19351.000000  21471.000000  21471.000000   \n",
       "mean       0.539565   63046.497661     43.279074      0.817195   \n",
       "std        1.382978  140827.311974     12.574291      0.548508   \n",
       "min       -1.000000  -18388.949901      0.000000      0.000000   \n",
       "25%        0.000000   -2747.423625     33.000000      1.000000   \n",
       "50%        0.000000   -1203.369529     42.000000      1.000000   \n",
       "75%        1.000000    -291.095954     53.000000      1.000000   \n",
       "max       20.000000  401755.400475     75.000000      4.000000   \n",
       "\n",
       "       family_status_id          debt  total_income  \n",
       "count      21471.000000  21471.000000  1.935100e+04  \n",
       "mean           0.973685      0.081086  1.674223e+05  \n",
       "std            1.421082      0.272974  1.029716e+05  \n",
       "min            0.000000      0.000000  2.066726e+04  \n",
       "25%            0.000000      0.000000  1.030532e+05  \n",
       "50%            0.000000      0.000000  1.450179e+05  \n",
       "75%            1.000000      0.000000  2.034351e+05  \n",
       "max            4.000000      1.000000  2.265604e+06  "
      ]
     },
     "execution_count": 14,
     "metadata": {},
     "output_type": "execute_result"
    }
   ],
   "source": [
    "df.describe()"
   ]
  },
  {
   "cell_type": "markdown",
   "id": "c6ba2255-a798-44af-bfc0-359533024f05",
   "metadata": {},
   "source": [
    "**Выводы**\n",
    "\n",
    "В каждой строке таблицы — данные о заёмщике. Предварительно можно утверждать, что информации достаточно для пответов на вопросы.\n",
    "\n",
    "Но встречаются пропуски в данных, заменты артефакты (например, отрицательное количество дней стажа), возможны дубликаты, и, скорее всего, потребуется изменение формата в колонках для удобства.\n",
    "\n",
    "Приступаем к предобработке данных."
   ]
  },
  {
   "cell_type": "markdown",
   "id": "7150936c-fe1d-449e-8dfc-9a253edd669b",
   "metadata": {},
   "source": [
    "## Шаг 2. Предобработка данных\n",
    "\n",
    "Удалим дубликаты, исключим пропуски, приведем данные в столбцах к единому стилю, оптимизируем данные в таблице путем категоризации."
   ]
  },
  {
   "cell_type": "markdown",
   "id": "22072109-ca6f-4872-9b84-b08287cbac85",
   "metadata": {},
   "source": [
    "### Удаление дубликатов"
   ]
  },
  {
   "cell_type": "markdown",
   "id": "35ed63b5-6644-4b4a-a65b-96b07b5cf95a",
   "metadata": {},
   "source": [
    "Проверим датафрейм на наличие явных дубликатов и избавимся от них."
   ]
  },
  {
   "cell_type": "code",
   "execution_count": 15,
   "id": "82da9ee6-18c8-4eb1-9822-cb85655e8dac",
   "metadata": {},
   "outputs": [
    {
     "data": {
      "text/plain": [
       "17"
      ]
     },
     "execution_count": 15,
     "metadata": {},
     "output_type": "execute_result"
    }
   ],
   "source": [
    "df.duplicated().sum()    # подсчёт явных дубликатов"
   ]
  },
  {
   "cell_type": "code",
   "execution_count": 16,
   "id": "6b64efa7-19f6-4b2b-8ce1-551379afc24e",
   "metadata": {},
   "outputs": [
    {
     "data": {
      "text/plain": [
       "0"
      ]
     },
     "execution_count": 16,
     "metadata": {},
     "output_type": "execute_result"
    }
   ],
   "source": [
    "# удаление явных дубликатов (с удалением старых индексов и формированием новых)\n",
    "\n",
    "df = df.drop_duplicates().reset_index(drop=True)\n",
    "df.duplicated().sum()    # проверка"
   ]
  },
  {
   "cell_type": "markdown",
   "id": "d2c81cfa-c223-4ab9-9f74-9c9567b269ab",
   "metadata": {},
   "source": [
    "Проведем работу с текстом в столбцах: для этого выведем каждый столбец и визуально оценим его значения на уникальность.\n",
    "Не исключено, что придется вносить изменения, если ошибки критичны и могут повлиять на результат исследования."
   ]
  },
  {
   "cell_type": "code",
   "execution_count": 23,
   "id": "100e6535-63e8-4e36-998f-48af23821b65",
   "metadata": {},
   "outputs": [
    {
     "data": {
      "text/plain": [
       "education\n",
       "среднее                15172\n",
       "высшее                  5250\n",
       "неоконченное высшее      744\n",
       "начальное                282\n",
       "ученая степень             6\n",
       "Name: count, dtype: int64"
      ]
     },
     "execution_count": 23,
     "metadata": {},
     "output_type": "execute_result"
    }
   ],
   "source": [
    "df['education'].value_counts()    # просмотр уникальных значений"
   ]
  },
  {
   "cell_type": "markdown",
   "id": "4d236ee4-2f0f-4cf6-9631-9b522fb1653b",
   "metadata": {},
   "source": [
    "Предположу, что информация могла быть сведена из разных баз, где предполагаемые варианты для выбора (при заполнении анкеты) написаны в разных стилях.\n",
    "\n",
    "Приведем все значения к нижнему регистру."
   ]
  },
  {
   "cell_type": "code",
   "execution_count": 18,
   "id": "55bdab36-8e04-42d4-88e2-95d167a064f5",
   "metadata": {},
   "outputs": [
    {
     "data": {
      "text/plain": [
       "education\n",
       "среднее                15172\n",
       "высшее                  5250\n",
       "неоконченное высшее      744\n",
       "начальное                282\n",
       "ученая степень             6\n",
       "Name: count, dtype: int64"
      ]
     },
     "execution_count": 18,
     "metadata": {},
     "output_type": "execute_result"
    }
   ],
   "source": [
    "#приводим все символы в строке к нижнему регистру, проверяем результат\n",
    "\n",
    "df['education'] = df['education'].str.lower()\n",
    "df['education'].value_counts()    # проверка"
   ]
  },
  {
   "cell_type": "code",
   "execution_count": 19,
   "id": "0cdaaec2-79a0-44fb-9499-97eecf24fe04",
   "metadata": {},
   "outputs": [
    {
     "data": {
      "text/plain": [
       "family_status\n",
       "женат / замужем          12339\n",
       "гражданский брак          4151\n",
       "не женат / не замужем     2810\n",
       "в разводе                 1195\n",
       "вдовец / вдова             959\n",
       "Name: count, dtype: int64"
      ]
     },
     "execution_count": 19,
     "metadata": {},
     "output_type": "execute_result"
    }
   ],
   "source": [
    "df['family_status'].value_counts()    # просмотр уникальных значений"
   ]
  },
  {
   "cell_type": "markdown",
   "id": "cc75a8b7-b43a-4bee-b68c-67d5ae17a21f",
   "metadata": {},
   "source": [
    "Одно из значений начинается с заглавной буквы. Приведем все к единой стилистике."
   ]
  },
  {
   "cell_type": "code",
   "execution_count": 24,
   "id": "49216640-5366-4662-b7dc-85dee70353e3",
   "metadata": {},
   "outputs": [],
   "source": [
    "df['family_status'] = df['family_status'].str.lower()    #приводим все символы в строке к нижнему регистру"
   ]
  },
  {
   "cell_type": "code",
   "execution_count": 21,
   "id": "2eb9feed-849e-48b6-9bc6-f52567204765",
   "metadata": {},
   "outputs": [
    {
     "data": {
      "text/plain": [
       "income_type\n",
       "сотрудник          11084\n",
       "компаньон           5078\n",
       "пенсионер           3829\n",
       "госслужащий         1457\n",
       "безработный            2\n",
       "предприниматель        2\n",
       "студент                1\n",
       "в декрете              1\n",
       "Name: count, dtype: int64"
      ]
     },
     "execution_count": 21,
     "metadata": {},
     "output_type": "execute_result"
    }
   ],
   "source": [
    "df['income_type'].value_counts()     # просмотр уникальных значений"
   ]
  },
  {
   "cell_type": "code",
   "execution_count": 13,
   "id": "2fe6296f-4913-41da-8c5e-3e64f6a23f48",
   "metadata": {},
   "outputs": [
    {
     "data": {
      "text/plain": [
       "gender\n",
       "F      14189\n",
       "M       7281\n",
       "XNA        1\n",
       "Name: count, dtype: int64"
      ]
     },
     "execution_count": 13,
     "metadata": {},
     "output_type": "execute_result"
    }
   ],
   "source": [
    "df['gender'].value_counts()     # просмотр уникальных значений"
   ]
  },
  {
   "cell_type": "markdown",
   "id": "0b2f3d24-614c-437e-bd9f-e1913f946d08",
   "metadata": {},
   "source": [
    "В данных встречаются три разных половых принадлежности!!!"
   ]
  },
  {
   "cell_type": "code",
   "execution_count": 22,
   "id": "50727e42-93f8-41ad-9b7b-3b4cc1230dc6",
   "metadata": {},
   "outputs": [
    {
     "data": {
      "text/plain": [
       "purpose\n",
       "свадьба                                   791\n",
       "на проведение свадьбы                     768\n",
       "сыграть свадьбу                           765\n",
       "операции с недвижимостью                  675\n",
       "покупка коммерческой недвижимости         661\n",
       "операции с жильем                         652\n",
       "покупка жилья для сдачи                   651\n",
       "операции с коммерческой недвижимостью     650\n",
       "покупка жилья                             646\n",
       "жилье                                     646\n",
       "покупка жилья для семьи                   638\n",
       "строительство собственной недвижимости    635\n",
       "недвижимость                              633\n",
       "операции со своей недвижимостью           627\n",
       "строительство жилой недвижимости          624\n",
       "покупка недвижимости                      621\n",
       "покупка своего жилья                      620\n",
       "строительство недвижимости                619\n",
       "ремонт жилью                              607\n",
       "покупка жилой недвижимости                606\n",
       "на покупку своего автомобиля              505\n",
       "заняться высшим образованием              496\n",
       "автомобиль                                494\n",
       "сделка с подержанным автомобилем          486\n",
       "свой автомобиль                           478\n",
       "на покупку подержанного автомобиля        478\n",
       "автомобили                                478\n",
       "на покупку автомобиля                     471\n",
       "приобретение автомобиля                   461\n",
       "дополнительное образование                460\n",
       "сделка с автомобилем                      455\n",
       "высшее образование                        452\n",
       "образование                               447\n",
       "получение дополнительного образования     446\n",
       "получение образования                     442\n",
       "профильное образование                    436\n",
       "получение высшего образования             426\n",
       "заняться образованием                     408\n",
       "Name: count, dtype: int64"
      ]
     },
     "execution_count": 22,
     "metadata": {},
     "output_type": "execute_result"
    }
   ],
   "source": [
    "df['purpose'].value_counts()     # просмотр уникальных значений"
   ]
  },
  {
   "cell_type": "markdown",
   "id": "a71f2b6a-29d5-457d-a7c0-a63babc46b2c",
   "metadata": {},
   "source": [
    "В общем и целом, к данным в столбцах (кроме последнего) - замечаний нет."
   ]
  },
  {
   "cell_type": "markdown",
   "id": "6a7b9335-6259-4d3c-b691-b4745995abb3",
   "metadata": {},
   "source": [
    "### Катmегоризация целей кредита"
   ]
  },
  {
   "cell_type": "markdown",
   "id": "ccd90d30-a3d3-40c0-b356-b7cd4bf025a5",
   "metadata": {},
   "source": [
    "Как мы заметили выше, данные столбца `purpose` нуждаются в категоризации: объективных причин для получения заёма всего четыре.\n",
    "\n",
    "Это:\n",
    "* `операции с автомобилем`,\n",
    "* `операции с недвижимостью`,\n",
    "* `проведение свадьбы`,\n",
    "* `получение образования`.\n",
    "\n",
    "Создадим новый столбец `purpose_category`, в который добавим категории, перечисленные выше.\n",
    "Данные старого столбца`purpose` после этого уже не будут нужны, и могут быть удалены."
   ]
  },
  {
   "cell_type": "code",
   "execution_count": 25,
   "id": "dfd7123f-60a4-4a13-a3d5-d1c4a4e39477",
   "metadata": {},
   "outputs": [],
   "source": [
    "def purposes(reason):    # создаем функцию\n",
    "    if 'образ' in reason:\n",
    "        return 'получение образования'\n",
    "    if 'свадь' in reason:\n",
    "        return 'проведение свадьбы'\n",
    "    if 'авто' in reason:\n",
    "        return 'операции с автомобилем'\n",
    "    return 'операции с недвижимостью'"
   ]
  },
  {
   "cell_type": "code",
   "execution_count": 26,
   "id": "37aff09a-c836-405d-b9f5-6872d4a01494",
   "metadata": {},
   "outputs": [],
   "source": [
    "df['purpose_category'] = df['purpose'].apply(purposes)    # применяем ее"
   ]
  },
  {
   "cell_type": "markdown",
   "id": "24cc6ac4-7f05-4e3f-9eeb-fd0b930aec40",
   "metadata": {},
   "source": [
    "### Формирование дополнительных датафреймов словарей, декомпозиция исходного датафрейма"
   ]
  },
  {
   "cell_type": "markdown",
   "id": "e363f79b-4797-4aba-9deb-41066d45934f",
   "metadata": {},
   "source": [
    "Так же, для облегчения таблицы создаем два новых датафрэйма `df_education` и `df_family` со столбцами\n",
    "* `education_id и education` — в первом;\t\t\t\t\n",
    "* `family_status_id и family_status` — во втором.\n",
    "\n",
    "После этого удаляем из текущей таблицы столбцы `education`, `family` и `puropse`(из пункта 2.2)."
   ]
  },
  {
   "cell_type": "code",
   "execution_count": 27,
   "id": "5c207905-4550-422b-9f85-2a066e62d024",
   "metadata": {},
   "outputs": [
    {
     "data": {
      "text/html": [
       "<div>\n",
       "<style scoped>\n",
       "    .dataframe tbody tr th:only-of-type {\n",
       "        vertical-align: middle;\n",
       "    }\n",
       "\n",
       "    .dataframe tbody tr th {\n",
       "        vertical-align: top;\n",
       "    }\n",
       "\n",
       "    .dataframe thead th {\n",
       "        text-align: right;\n",
       "    }\n",
       "</style>\n",
       "<table border=\"1\" class=\"dataframe\">\n",
       "  <thead>\n",
       "    <tr style=\"text-align: right;\">\n",
       "      <th></th>\n",
       "      <th>education_id</th>\n",
       "      <th>education</th>\n",
       "    </tr>\n",
       "  </thead>\n",
       "  <tbody>\n",
       "    <tr>\n",
       "      <th>0</th>\n",
       "      <td>0</td>\n",
       "      <td>высшее</td>\n",
       "    </tr>\n",
       "    <tr>\n",
       "      <th>1</th>\n",
       "      <td>1</td>\n",
       "      <td>среднее</td>\n",
       "    </tr>\n",
       "    <tr>\n",
       "      <th>2</th>\n",
       "      <td>2</td>\n",
       "      <td>неоконченное высшее</td>\n",
       "    </tr>\n",
       "    <tr>\n",
       "      <th>3</th>\n",
       "      <td>3</td>\n",
       "      <td>начальное</td>\n",
       "    </tr>\n",
       "    <tr>\n",
       "      <th>4</th>\n",
       "      <td>4</td>\n",
       "      <td>ученая степень</td>\n",
       "    </tr>\n",
       "  </tbody>\n",
       "</table>\n",
       "</div>"
      ],
      "text/plain": [
       "   education_id            education\n",
       "0             0               высшее\n",
       "1             1              среднее\n",
       "2             2  неоконченное высшее\n",
       "3             3            начальное\n",
       "4             4       ученая степень"
      ]
     },
     "execution_count": 27,
     "metadata": {},
     "output_type": "execute_result"
    }
   ],
   "source": [
    "df_education = df[['education_id', 'education']].drop_duplicates().reset_index(drop=True)\n",
    "df_education"
   ]
  },
  {
   "cell_type": "code",
   "execution_count": 28,
   "id": "3c46850d-0461-4887-a976-a83a1f0b209b",
   "metadata": {},
   "outputs": [
    {
     "data": {
      "text/html": [
       "<div>\n",
       "<style scoped>\n",
       "    .dataframe tbody tr th:only-of-type {\n",
       "        vertical-align: middle;\n",
       "    }\n",
       "\n",
       "    .dataframe tbody tr th {\n",
       "        vertical-align: top;\n",
       "    }\n",
       "\n",
       "    .dataframe thead th {\n",
       "        text-align: right;\n",
       "    }\n",
       "</style>\n",
       "<table border=\"1\" class=\"dataframe\">\n",
       "  <thead>\n",
       "    <tr style=\"text-align: right;\">\n",
       "      <th></th>\n",
       "      <th>family_status_id</th>\n",
       "      <th>family_status</th>\n",
       "    </tr>\n",
       "  </thead>\n",
       "  <tbody>\n",
       "    <tr>\n",
       "      <th>0</th>\n",
       "      <td>0</td>\n",
       "      <td>женат / замужем</td>\n",
       "    </tr>\n",
       "    <tr>\n",
       "      <th>1</th>\n",
       "      <td>1</td>\n",
       "      <td>гражданский брак</td>\n",
       "    </tr>\n",
       "    <tr>\n",
       "      <th>2</th>\n",
       "      <td>2</td>\n",
       "      <td>вдовец / вдова</td>\n",
       "    </tr>\n",
       "    <tr>\n",
       "      <th>3</th>\n",
       "      <td>3</td>\n",
       "      <td>в разводе</td>\n",
       "    </tr>\n",
       "    <tr>\n",
       "      <th>4</th>\n",
       "      <td>4</td>\n",
       "      <td>не женат / не замужем</td>\n",
       "    </tr>\n",
       "  </tbody>\n",
       "</table>\n",
       "</div>"
      ],
      "text/plain": [
       "   family_status_id          family_status\n",
       "0                 0        женат / замужем\n",
       "1                 1       гражданский брак\n",
       "2                 2         вдовец / вдова\n",
       "3                 3              в разводе\n",
       "4                 4  не женат / не замужем"
      ]
     },
     "execution_count": 28,
     "metadata": {},
     "output_type": "execute_result"
    }
   ],
   "source": [
    "df_family = df[['family_status_id', 'family_status']].drop_duplicates().reset_index(drop=True)\n",
    "df_family"
   ]
  },
  {
   "cell_type": "code",
   "execution_count": 29,
   "id": "fda07615-baff-48ee-a71c-79a92cff54d7",
   "metadata": {},
   "outputs": [],
   "source": [
    "df = df.drop(['family_status','education','purpose'], axis=1) # удаляем лишние столбцы, включая puropse из п.2.2"
   ]
  },
  {
   "cell_type": "markdown",
   "id": "f68bbd4c-5845-422d-b1a6-634ff4e68f6c",
   "metadata": {},
   "source": [
    "Смотрим на нашу облегченную таблицу."
   ]
  },
  {
   "cell_type": "code",
   "execution_count": 30,
   "id": "4646f8d2-55eb-47be-a5d0-4ca56da6668b",
   "metadata": {},
   "outputs": [
    {
     "data": {
      "text/html": [
       "<div>\n",
       "<style scoped>\n",
       "    .dataframe tbody tr th:only-of-type {\n",
       "        vertical-align: middle;\n",
       "    }\n",
       "\n",
       "    .dataframe tbody tr th {\n",
       "        vertical-align: top;\n",
       "    }\n",
       "\n",
       "    .dataframe thead th {\n",
       "        text-align: right;\n",
       "    }\n",
       "</style>\n",
       "<table border=\"1\" class=\"dataframe\">\n",
       "  <thead>\n",
       "    <tr style=\"text-align: right;\">\n",
       "      <th></th>\n",
       "      <th>children</th>\n",
       "      <th>days_employed</th>\n",
       "      <th>dob_years</th>\n",
       "      <th>education_id</th>\n",
       "      <th>family_status_id</th>\n",
       "      <th>gender</th>\n",
       "      <th>income_type</th>\n",
       "      <th>debt</th>\n",
       "      <th>total_income</th>\n",
       "      <th>purpose_category</th>\n",
       "    </tr>\n",
       "  </thead>\n",
       "  <tbody>\n",
       "    <tr>\n",
       "      <th>0</th>\n",
       "      <td>1</td>\n",
       "      <td>-8437.673028</td>\n",
       "      <td>42</td>\n",
       "      <td>0</td>\n",
       "      <td>0</td>\n",
       "      <td>F</td>\n",
       "      <td>сотрудник</td>\n",
       "      <td>0</td>\n",
       "      <td>253875.639453</td>\n",
       "      <td>операции с недвижимостью</td>\n",
       "    </tr>\n",
       "    <tr>\n",
       "      <th>1</th>\n",
       "      <td>1</td>\n",
       "      <td>-4024.803754</td>\n",
       "      <td>36</td>\n",
       "      <td>1</td>\n",
       "      <td>0</td>\n",
       "      <td>F</td>\n",
       "      <td>сотрудник</td>\n",
       "      <td>0</td>\n",
       "      <td>112080.014102</td>\n",
       "      <td>операции с автомобилем</td>\n",
       "    </tr>\n",
       "    <tr>\n",
       "      <th>2</th>\n",
       "      <td>0</td>\n",
       "      <td>-5623.422610</td>\n",
       "      <td>33</td>\n",
       "      <td>1</td>\n",
       "      <td>0</td>\n",
       "      <td>M</td>\n",
       "      <td>сотрудник</td>\n",
       "      <td>0</td>\n",
       "      <td>145885.952297</td>\n",
       "      <td>операции с недвижимостью</td>\n",
       "    </tr>\n",
       "    <tr>\n",
       "      <th>3</th>\n",
       "      <td>3</td>\n",
       "      <td>-4124.747207</td>\n",
       "      <td>32</td>\n",
       "      <td>1</td>\n",
       "      <td>0</td>\n",
       "      <td>M</td>\n",
       "      <td>сотрудник</td>\n",
       "      <td>0</td>\n",
       "      <td>267628.550329</td>\n",
       "      <td>получение образования</td>\n",
       "    </tr>\n",
       "    <tr>\n",
       "      <th>4</th>\n",
       "      <td>0</td>\n",
       "      <td>340266.072047</td>\n",
       "      <td>53</td>\n",
       "      <td>1</td>\n",
       "      <td>1</td>\n",
       "      <td>F</td>\n",
       "      <td>пенсионер</td>\n",
       "      <td>0</td>\n",
       "      <td>158616.077870</td>\n",
       "      <td>проведение свадьбы</td>\n",
       "    </tr>\n",
       "  </tbody>\n",
       "</table>\n",
       "</div>"
      ],
      "text/plain": [
       "   children  days_employed  dob_years  education_id  family_status_id gender  \\\n",
       "0         1   -8437.673028         42             0                 0      F   \n",
       "1         1   -4024.803754         36             1                 0      F   \n",
       "2         0   -5623.422610         33             1                 0      M   \n",
       "3         3   -4124.747207         32             1                 0      M   \n",
       "4         0  340266.072047         53             1                 1      F   \n",
       "\n",
       "  income_type  debt   total_income          purpose_category  \n",
       "0   сотрудник     0  253875.639453  операции с недвижимостью  \n",
       "1   сотрудник     0  112080.014102    операции с автомобилем  \n",
       "2   сотрудник     0  145885.952297  операции с недвижимостью  \n",
       "3   сотрудник     0  267628.550329     получение образования  \n",
       "4   пенсионер     0  158616.077870        проведение свадьбы  "
      ]
     },
     "execution_count": 30,
     "metadata": {},
     "output_type": "execute_result"
    }
   ],
   "source": [
    "df.head()"
   ]
  },
  {
   "cell_type": "markdown",
   "id": "f6957283-1040-46d9-a4b8-43248467dee9",
   "metadata": {},
   "source": [
    "### Проверка данных на аномалии и исправления"
   ]
  },
  {
   "cell_type": "markdown",
   "id": "71b13888-558a-4355-b642-d7188178fdc9",
   "metadata": {},
   "source": [
    "На одном из предыдущих шагов у нас появился заёмщик, который не определился со своей гендерной принадлежностью.\n",
    "Т.к. это единственный случай, удаляем его из таблицы."
   ]
  },
  {
   "cell_type": "code",
   "execution_count": 31,
   "id": "6610da48-019e-4101-9163-415b42bb2aa6",
   "metadata": {},
   "outputs": [
    {
     "data": {
      "text/plain": [
       "gender\n",
       "F    14174\n",
       "M     7279\n",
       "Name: count, dtype: int64"
      ]
     },
     "execution_count": 31,
     "metadata": {},
     "output_type": "execute_result"
    }
   ],
   "source": [
    "df = df.loc[df['gender'] != 'XNA']\n",
    "df['gender'].value_counts()"
   ]
  },
  {
   "cell_type": "markdown",
   "id": "aa32ae31-b5c6-4b47-a5c9-edc22b240e35",
   "metadata": {},
   "source": [
    "Теперь посмотрим на цифровые значения в таблице.\n",
    "\n",
    "Первое, что настораживает: значения столбца `day_employed` могут принимать отрицательные значения.\n",
    "Исправим это."
   ]
  },
  {
   "cell_type": "code",
   "execution_count": 32,
   "id": "351b0f35-3ace-402d-811e-db97e61d05ad",
   "metadata": {},
   "outputs": [
    {
     "data": {
      "text/html": [
       "<div>\n",
       "<style scoped>\n",
       "    .dataframe tbody tr th:only-of-type {\n",
       "        vertical-align: middle;\n",
       "    }\n",
       "\n",
       "    .dataframe tbody tr th {\n",
       "        vertical-align: top;\n",
       "    }\n",
       "\n",
       "    .dataframe thead th {\n",
       "        text-align: right;\n",
       "    }\n",
       "</style>\n",
       "<table border=\"1\" class=\"dataframe\">\n",
       "  <thead>\n",
       "    <tr style=\"text-align: right;\">\n",
       "      <th></th>\n",
       "      <th>children</th>\n",
       "      <th>days_employed</th>\n",
       "      <th>dob_years</th>\n",
       "      <th>education_id</th>\n",
       "      <th>family_status_id</th>\n",
       "      <th>gender</th>\n",
       "      <th>income_type</th>\n",
       "      <th>debt</th>\n",
       "      <th>total_income</th>\n",
       "      <th>purpose_category</th>\n",
       "    </tr>\n",
       "  </thead>\n",
       "  <tbody>\n",
       "    <tr>\n",
       "      <th>0</th>\n",
       "      <td>1</td>\n",
       "      <td>8437.673028</td>\n",
       "      <td>42</td>\n",
       "      <td>0</td>\n",
       "      <td>0</td>\n",
       "      <td>F</td>\n",
       "      <td>сотрудник</td>\n",
       "      <td>0</td>\n",
       "      <td>253875.639453</td>\n",
       "      <td>операции с недвижимостью</td>\n",
       "    </tr>\n",
       "    <tr>\n",
       "      <th>1</th>\n",
       "      <td>1</td>\n",
       "      <td>4024.803754</td>\n",
       "      <td>36</td>\n",
       "      <td>1</td>\n",
       "      <td>0</td>\n",
       "      <td>F</td>\n",
       "      <td>сотрудник</td>\n",
       "      <td>0</td>\n",
       "      <td>112080.014102</td>\n",
       "      <td>операции с автомобилем</td>\n",
       "    </tr>\n",
       "    <tr>\n",
       "      <th>2</th>\n",
       "      <td>0</td>\n",
       "      <td>5623.422610</td>\n",
       "      <td>33</td>\n",
       "      <td>1</td>\n",
       "      <td>0</td>\n",
       "      <td>M</td>\n",
       "      <td>сотрудник</td>\n",
       "      <td>0</td>\n",
       "      <td>145885.952297</td>\n",
       "      <td>операции с недвижимостью</td>\n",
       "    </tr>\n",
       "    <tr>\n",
       "      <th>3</th>\n",
       "      <td>3</td>\n",
       "      <td>4124.747207</td>\n",
       "      <td>32</td>\n",
       "      <td>1</td>\n",
       "      <td>0</td>\n",
       "      <td>M</td>\n",
       "      <td>сотрудник</td>\n",
       "      <td>0</td>\n",
       "      <td>267628.550329</td>\n",
       "      <td>получение образования</td>\n",
       "    </tr>\n",
       "    <tr>\n",
       "      <th>4</th>\n",
       "      <td>0</td>\n",
       "      <td>340266.072047</td>\n",
       "      <td>53</td>\n",
       "      <td>1</td>\n",
       "      <td>1</td>\n",
       "      <td>F</td>\n",
       "      <td>пенсионер</td>\n",
       "      <td>0</td>\n",
       "      <td>158616.077870</td>\n",
       "      <td>проведение свадьбы</td>\n",
       "    </tr>\n",
       "  </tbody>\n",
       "</table>\n",
       "</div>"
      ],
      "text/plain": [
       "   children  days_employed  dob_years  education_id  family_status_id gender  \\\n",
       "0         1    8437.673028         42             0                 0      F   \n",
       "1         1    4024.803754         36             1                 0      F   \n",
       "2         0    5623.422610         33             1                 0      M   \n",
       "3         3    4124.747207         32             1                 0      M   \n",
       "4         0  340266.072047         53             1                 1      F   \n",
       "\n",
       "  income_type  debt   total_income          purpose_category  \n",
       "0   сотрудник     0  253875.639453  операции с недвижимостью  \n",
       "1   сотрудник     0  112080.014102    операции с автомобилем  \n",
       "2   сотрудник     0  145885.952297  операции с недвижимостью  \n",
       "3   сотрудник     0  267628.550329     получение образования  \n",
       "4   пенсионер     0  158616.077870        проведение свадьбы  "
      ]
     },
     "execution_count": 32,
     "metadata": {},
     "output_type": "execute_result"
    }
   ],
   "source": [
    "df['days_employed'] = df['days_employed'].abs()\n",
    "df.head()"
   ]
  },
  {
   "cell_type": "markdown",
   "id": "0f5af4da-6f25-4669-bca6-9f10839f9d5a",
   "metadata": {},
   "source": [
    "На всякий случай выведем минимальное и максимальное значения трудового стажа."
   ]
  },
  {
   "cell_type": "code",
   "execution_count": 33,
   "id": "284bd3f5-093d-43f7-83d7-8cb8d97d0a1a",
   "metadata": {},
   "outputs": [
    {
     "data": {
      "text/plain": [
       "24.14163324048118"
      ]
     },
     "metadata": {},
     "output_type": "display_data"
    },
    {
     "data": {
      "text/plain": [
       "401755.40047533"
      ]
     },
     "metadata": {},
     "output_type": "display_data"
    }
   ],
   "source": [
    "display(min(df['days_employed']), max(df['days_employed']))"
   ]
  },
  {
   "cell_type": "markdown",
   "id": "855923e7-8aeb-4dc4-bed1-457fa1c47e75",
   "metadata": {},
   "source": [
    "401755 дней - это стаж более 1100 лет. \n",
    "\n",
    "Поищем строки, где количество стажа более 24000 дней (24000 дней практически соответствуют стажу 80-ти летнего человека, который работет с 14-ти лет.)"
   ]
  },
  {
   "cell_type": "code",
   "execution_count": null,
   "id": "cafdea81-dcec-499a-927c-18f9cd1b75f8",
   "metadata": {},
   "outputs": [],
   "source": [
    "df[df['days_employed'] >= 24000]['total_income'].count()"
   ]
  },
  {
   "cell_type": "markdown",
   "id": "b3a33db0-69e0-4f46-96ec-19f625e5be1d",
   "metadata": {},
   "source": [
    "К сожалению, строк с такими значениями слишком много. Проверим среднее значение по таким случаям."
   ]
  },
  {
   "cell_type": "code",
   "execution_count": 35,
   "id": "ef95e142-1120-4d58-8d90-05bba2c1532a",
   "metadata": {},
   "outputs": [
    {
     "data": {
      "text/plain": [
       "365004.3099162686"
      ]
     },
     "execution_count": 35,
     "metadata": {},
     "output_type": "execute_result"
    }
   ],
   "source": [
    "df[df['days_employed'] >= 24000]['days_employed'].mean()"
   ]
  },
  {
   "cell_type": "markdown",
   "id": "4b54a1a8-4391-4c74-92c8-bf611c42df2f",
   "metadata": {},
   "source": [
    "Рискну предоложить, что указан стаж в часах, а не днях.\n",
    "Скорее всего, опять проблемы, связанные с выгрузками из разных баз (в одной стаж указан в днях, в другой -  в часах).\n",
    "\n",
    "Попробуем это исправить, поделив аномальные значения стажа на 24 часа. \n",
    "\n",
    "Для этого напишем функцию и применим ее к значениям столбца, превышающим 24000 часов медианным значением стажа остальных заёмщиков. \n",
    "\n",
    "Медианное значение для количественных данных является лучшим решением для заполнения пропусков, т.к. исключает в расчете экстремумы.\n"
   ]
  },
  {
   "cell_type": "code",
   "execution_count": 37,
   "id": "856f3476-a9f0-4be3-99e3-dcb84ed93152",
   "metadata": {},
   "outputs": [],
   "source": [
    "med_days_employed = df[df['days_employed'] <= 24000]['days_employed'].median()    # расчет медианы"
   ]
  },
  {
   "cell_type": "code",
   "execution_count": 38,
   "id": "3ea1d8c9-71a5-4f05-b36d-8fc99803234c",
   "metadata": {},
   "outputs": [
    {
     "data": {
      "text/plain": [
       "10000"
      ]
     },
     "execution_count": 38,
     "metadata": {},
     "output_type": "execute_result"
    }
   ],
   "source": [
    "def to_do_better(days):  # создаем функцию\n",
    "    if days >= 24000:\n",
    "        return med_days_employed\n",
    "    else:\n",
    "        return days\n",
    "to_do_better(10000) # проверка   "
   ]
  },
  {
   "cell_type": "code",
   "execution_count": 39,
   "id": "a548951d-e5fe-414c-913e-af4ce6142785",
   "metadata": {},
   "outputs": [
    {
     "data": {
      "text/html": [
       "<div>\n",
       "<style scoped>\n",
       "    .dataframe tbody tr th:only-of-type {\n",
       "        vertical-align: middle;\n",
       "    }\n",
       "\n",
       "    .dataframe tbody tr th {\n",
       "        vertical-align: top;\n",
       "    }\n",
       "\n",
       "    .dataframe thead th {\n",
       "        text-align: right;\n",
       "    }\n",
       "</style>\n",
       "<table border=\"1\" class=\"dataframe\">\n",
       "  <thead>\n",
       "    <tr style=\"text-align: right;\">\n",
       "      <th></th>\n",
       "      <th>children</th>\n",
       "      <th>days_employed</th>\n",
       "      <th>dob_years</th>\n",
       "      <th>education_id</th>\n",
       "      <th>family_status_id</th>\n",
       "      <th>gender</th>\n",
       "      <th>income_type</th>\n",
       "      <th>debt</th>\n",
       "      <th>total_income</th>\n",
       "      <th>purpose_category</th>\n",
       "    </tr>\n",
       "  </thead>\n",
       "  <tbody>\n",
       "    <tr>\n",
       "      <th>0</th>\n",
       "      <td>1</td>\n",
       "      <td>8437.673028</td>\n",
       "      <td>42</td>\n",
       "      <td>0</td>\n",
       "      <td>0</td>\n",
       "      <td>F</td>\n",
       "      <td>сотрудник</td>\n",
       "      <td>0</td>\n",
       "      <td>253875.639453</td>\n",
       "      <td>операции с недвижимостью</td>\n",
       "    </tr>\n",
       "    <tr>\n",
       "      <th>1</th>\n",
       "      <td>1</td>\n",
       "      <td>4024.803754</td>\n",
       "      <td>36</td>\n",
       "      <td>1</td>\n",
       "      <td>0</td>\n",
       "      <td>F</td>\n",
       "      <td>сотрудник</td>\n",
       "      <td>0</td>\n",
       "      <td>112080.014102</td>\n",
       "      <td>операции с автомобилем</td>\n",
       "    </tr>\n",
       "    <tr>\n",
       "      <th>2</th>\n",
       "      <td>0</td>\n",
       "      <td>5623.422610</td>\n",
       "      <td>33</td>\n",
       "      <td>1</td>\n",
       "      <td>0</td>\n",
       "      <td>M</td>\n",
       "      <td>сотрудник</td>\n",
       "      <td>0</td>\n",
       "      <td>145885.952297</td>\n",
       "      <td>операции с недвижимостью</td>\n",
       "    </tr>\n",
       "    <tr>\n",
       "      <th>3</th>\n",
       "      <td>3</td>\n",
       "      <td>4124.747207</td>\n",
       "      <td>32</td>\n",
       "      <td>1</td>\n",
       "      <td>0</td>\n",
       "      <td>M</td>\n",
       "      <td>сотрудник</td>\n",
       "      <td>0</td>\n",
       "      <td>267628.550329</td>\n",
       "      <td>получение образования</td>\n",
       "    </tr>\n",
       "    <tr>\n",
       "      <th>4</th>\n",
       "      <td>0</td>\n",
       "      <td>1629.997862</td>\n",
       "      <td>53</td>\n",
       "      <td>1</td>\n",
       "      <td>1</td>\n",
       "      <td>F</td>\n",
       "      <td>пенсионер</td>\n",
       "      <td>0</td>\n",
       "      <td>158616.077870</td>\n",
       "      <td>проведение свадьбы</td>\n",
       "    </tr>\n",
       "  </tbody>\n",
       "</table>\n",
       "</div>"
      ],
      "text/plain": [
       "   children  days_employed  dob_years  education_id  family_status_id gender  \\\n",
       "0         1    8437.673028         42             0                 0      F   \n",
       "1         1    4024.803754         36             1                 0      F   \n",
       "2         0    5623.422610         33             1                 0      M   \n",
       "3         3    4124.747207         32             1                 0      M   \n",
       "4         0    1629.997862         53             1                 1      F   \n",
       "\n",
       "  income_type  debt   total_income          purpose_category  \n",
       "0   сотрудник     0  253875.639453  операции с недвижимостью  \n",
       "1   сотрудник     0  112080.014102    операции с автомобилем  \n",
       "2   сотрудник     0  145885.952297  операции с недвижимостью  \n",
       "3   сотрудник     0  267628.550329     получение образования  \n",
       "4   пенсионер     0  158616.077870        проведение свадьбы  "
      ]
     },
     "execution_count": 39,
     "metadata": {},
     "output_type": "execute_result"
    }
   ],
   "source": [
    "df['days_employed'] = df['days_employed'].apply(to_do_better) #применяем функцию\n",
    "df.head()                "
   ]
  },
  {
   "cell_type": "markdown",
   "id": "93ec17b6-5909-4c93-b6c5-f0e2b2752afb",
   "metadata": {},
   "source": [
    "Теперь проверим возраст заёмщиков: есть ли лица, моложе 18-ти лет (включая нулевые значения)?    \n",
    "Если доля таких строк мала, то удалим их."
   ]
  },
  {
   "cell_type": "code",
   "execution_count": 40,
   "id": "d181c02f-0b23-4c6b-98f8-923bb156d33a",
   "metadata": {},
   "outputs": [
    {
     "data": {
      "text/plain": [
       "0.004707966251806274"
      ]
     },
     "execution_count": 40,
     "metadata": {},
     "output_type": "execute_result"
    }
   ],
   "source": [
    "df[df['dob_years'] < 18]['dob_years'].count() / df.shape[0] "
   ]
  },
  {
   "cell_type": "markdown",
   "id": "6ba47d63-7176-460e-9073-c542ed188f17",
   "metadata": {},
   "source": [
    "Доля ничтожна мала, удаляем такие строки:"
   ]
  },
  {
   "cell_type": "code",
   "execution_count": 41,
   "id": "383d279a-7cf3-42b3-b5f4-b54c9a514602",
   "metadata": {},
   "outputs": [],
   "source": [
    "df = df.loc[df['dob_years'] >= 18]"
   ]
  },
  {
   "cell_type": "markdown",
   "id": "22e25b4c-ef6f-46d3-b8f9-2efd47acd918",
   "metadata": {},
   "source": [
    "Проверим максимальный возраст заёмщиков:"
   ]
  },
  {
   "cell_type": "code",
   "execution_count": 43,
   "id": "2d335027-9019-498c-886e-435f0149a2e6",
   "metadata": {},
   "outputs": [
    {
     "data": {
      "text/plain": [
       "75"
      ]
     },
     "execution_count": 43,
     "metadata": {},
     "output_type": "execute_result"
    }
   ],
   "source": [
    "max(df['dob_years'])"
   ]
  },
  {
   "cell_type": "markdown",
   "id": "d85ab1c4-e3a8-47fb-8842-843bdd315ce2",
   "metadata": {},
   "source": [
    "К возрасту больше вопросов нет.\n",
    "\n",
    "\n",
    "Теперь проверим, какие значения есть в столбце `children`:"
   ]
  },
  {
   "cell_type": "code",
   "execution_count": 44,
   "id": "20252b97-fe8f-4800-a3fd-cfa3aa31bac6",
   "metadata": {},
   "outputs": [
    {
     "data": {
      "text/plain": [
       "children\n",
       " 0     14021\n",
       " 1      4792\n",
       " 2      2039\n",
       " 3       328\n",
       " 20       75\n",
       "-1        47\n",
       " 4        41\n",
       " 5         9\n",
       "Name: count, dtype: int64"
      ]
     },
     "execution_count": 44,
     "metadata": {},
     "output_type": "execute_result"
    }
   ],
   "source": [
    "df['children'].value_counts()"
   ]
  },
  {
   "cell_type": "markdown",
   "id": "bd233ab1-3232-4189-8005-18918dbb05d3",
   "metadata": {},
   "source": [
    "Необходимо исправить отрицательное количество детей на нулевое значение."
   ]
  },
  {
   "cell_type": "code",
   "execution_count": 46,
   "id": "0e126b61-6b8d-401d-abc8-3feac48f34ab",
   "metadata": {},
   "outputs": [],
   "source": [
    "df['children'] = df['children'].replace(-1, 0)"
   ]
  },
  {
   "cell_type": "markdown",
   "id": "0b0314f3-7d54-443c-89ed-49fb1b78e1f7",
   "metadata": {},
   "source": [
    "Теперь посмотрим внимательнее на заёмщиков, имеющих 20 детей, возможно, это частные детские дома?"
   ]
  },
  {
   "cell_type": "code",
   "execution_count": 48,
   "id": "9f4e7c69-9064-4d96-a443-ef0f4f5e839d",
   "metadata": {},
   "outputs": [
    {
     "data": {
      "text/html": [
       "<div>\n",
       "<style scoped>\n",
       "    .dataframe tbody tr th:only-of-type {\n",
       "        vertical-align: middle;\n",
       "    }\n",
       "\n",
       "    .dataframe tbody tr th {\n",
       "        vertical-align: top;\n",
       "    }\n",
       "\n",
       "    .dataframe thead th {\n",
       "        text-align: right;\n",
       "    }\n",
       "</style>\n",
       "<table border=\"1\" class=\"dataframe\">\n",
       "  <thead>\n",
       "    <tr style=\"text-align: right;\">\n",
       "      <th></th>\n",
       "      <th>children</th>\n",
       "      <th>days_employed</th>\n",
       "      <th>dob_years</th>\n",
       "      <th>education_id</th>\n",
       "      <th>family_status_id</th>\n",
       "      <th>gender</th>\n",
       "      <th>income_type</th>\n",
       "      <th>debt</th>\n",
       "      <th>total_income</th>\n",
       "      <th>purpose_category</th>\n",
       "    </tr>\n",
       "  </thead>\n",
       "  <tbody>\n",
       "    <tr>\n",
       "      <th>606</th>\n",
       "      <td>20</td>\n",
       "      <td>880.221113</td>\n",
       "      <td>21</td>\n",
       "      <td>1</td>\n",
       "      <td>0</td>\n",
       "      <td>M</td>\n",
       "      <td>компаньон</td>\n",
       "      <td>0</td>\n",
       "      <td>145334.865002</td>\n",
       "      <td>операции с недвижимостью</td>\n",
       "    </tr>\n",
       "    <tr>\n",
       "      <th>720</th>\n",
       "      <td>20</td>\n",
       "      <td>855.595512</td>\n",
       "      <td>44</td>\n",
       "      <td>1</td>\n",
       "      <td>0</td>\n",
       "      <td>F</td>\n",
       "      <td>компаньон</td>\n",
       "      <td>0</td>\n",
       "      <td>112998.738649</td>\n",
       "      <td>операции с недвижимостью</td>\n",
       "    </tr>\n",
       "    <tr>\n",
       "      <th>1074</th>\n",
       "      <td>20</td>\n",
       "      <td>3310.411598</td>\n",
       "      <td>56</td>\n",
       "      <td>1</td>\n",
       "      <td>0</td>\n",
       "      <td>F</td>\n",
       "      <td>сотрудник</td>\n",
       "      <td>1</td>\n",
       "      <td>229518.537004</td>\n",
       "      <td>получение образования</td>\n",
       "    </tr>\n",
       "    <tr>\n",
       "      <th>2510</th>\n",
       "      <td>20</td>\n",
       "      <td>2714.161249</td>\n",
       "      <td>59</td>\n",
       "      <td>0</td>\n",
       "      <td>2</td>\n",
       "      <td>F</td>\n",
       "      <td>сотрудник</td>\n",
       "      <td>0</td>\n",
       "      <td>264474.835577</td>\n",
       "      <td>операции с недвижимостью</td>\n",
       "    </tr>\n",
       "    <tr>\n",
       "      <th>3300</th>\n",
       "      <td>20</td>\n",
       "      <td>NaN</td>\n",
       "      <td>35</td>\n",
       "      <td>1</td>\n",
       "      <td>4</td>\n",
       "      <td>F</td>\n",
       "      <td>госслужащий</td>\n",
       "      <td>0</td>\n",
       "      <td>NaN</td>\n",
       "      <td>получение образования</td>\n",
       "    </tr>\n",
       "  </tbody>\n",
       "</table>\n",
       "</div>"
      ],
      "text/plain": [
       "      children  days_employed  dob_years  education_id  family_status_id  \\\n",
       "606         20     880.221113         21             1                 0   \n",
       "720         20     855.595512         44             1                 0   \n",
       "1074        20    3310.411598         56             1                 0   \n",
       "2510        20    2714.161249         59             0                 2   \n",
       "3300        20            NaN         35             1                 4   \n",
       "\n",
       "     gender  income_type  debt   total_income          purpose_category  \n",
       "606       M    компаньон     0  145334.865002  операции с недвижимостью  \n",
       "720       F    компаньон     0  112998.738649  операции с недвижимостью  \n",
       "1074      F    сотрудник     1  229518.537004     получение образования  \n",
       "2510      F    сотрудник     0  264474.835577  операции с недвижимостью  \n",
       "3300      F  госслужащий     0            NaN     получение образования  "
      ]
     },
     "execution_count": 48,
     "metadata": {},
     "output_type": "execute_result"
    }
   ],
   "source": [
    "df[df['children'] == 20].head()"
   ]
  },
  {
   "cell_type": "markdown",
   "id": "6c39441b-075e-4a09-bc6e-d35c8ef090b0",
   "metadata": {},
   "source": [
    "К сожалению, по выводу первых строк непонятно - среди многодетных представителей присутствуют гослужащий, сотрудник и компаньон. Все разного возраста. Считаем долю и, если она незначительная, удаляем строки.  "
   ]
  },
  {
   "cell_type": "code",
   "execution_count": 49,
   "id": "ba7ab02c-828b-4b8a-af6e-cd40750c6d67",
   "metadata": {},
   "outputs": [
    {
     "data": {
      "text/plain": [
       "0.0035125515174222557"
      ]
     },
     "execution_count": 49,
     "metadata": {},
     "output_type": "execute_result"
    }
   ],
   "source": [
    "df[df['children'] == 20]['children'].count() / df.shape[0]"
   ]
  },
  {
   "cell_type": "code",
   "execution_count": 50,
   "id": "48d6ee76-a126-47de-9d35-10bceb556f61",
   "metadata": {},
   "outputs": [],
   "source": [
    "df = df.loc[df['children'] < 20]    # удаляем"
   ]
  },
  {
   "cell_type": "markdown",
   "id": "76cf2666-0228-424a-92b9-f4cb1e12c2af",
   "metadata": {},
   "source": [
    "### Заполнение пропусков"
   ]
  },
  {
   "cell_type": "markdown",
   "id": "3ba85634-1562-4afa-bdcb-7d1489c46454",
   "metadata": {},
   "source": [
    "Проверим оставшееся количество пропусков в данных."
   ]
  },
  {
   "cell_type": "code",
   "execution_count": 52,
   "id": "e96b867c-a5f3-49d0-9737-1afa53bea27d",
   "metadata": {},
   "outputs": [
    {
     "data": {
      "text/plain": [
       "children               0\n",
       "days_employed       2084\n",
       "dob_years              0\n",
       "education_id           0\n",
       "family_status_id       0\n",
       "gender                 0\n",
       "income_type            0\n",
       "debt                   0\n",
       "total_income        2084\n",
       "purpose_category       0\n",
       "dtype: int64"
      ]
     },
     "execution_count": 52,
     "metadata": {},
     "output_type": "execute_result"
    }
   ],
   "source": [
    "df.isna().sum()    # подсчёт пропусков"
   ]
  },
  {
   "cell_type": "markdown",
   "id": "e03b001d-7a35-4a0d-a861-4fc331833a5b",
   "metadata": {},
   "source": [
    "Пустые значения столбца `days_employed` заполняем рассчитанным ранее медианным значением стажа (`med_days_employed`)."
   ]
  },
  {
   "cell_type": "code",
   "execution_count": 54,
   "id": "98016379-af71-476b-ab4e-4131fbc6f40a",
   "metadata": {},
   "outputs": [],
   "source": [
    "df['days_employed'] = df['days_employed'].fillna(med_days_employed)"
   ]
  },
  {
   "cell_type": "markdown",
   "id": "356cc53c-6cef-4383-ba4f-1c7386882da1",
   "metadata": {},
   "source": [
    "Пустые значения столбца total_income так же придется заполнить медианным значением дохода, т.к. среди всей выборки могут быть значительные отклонения от основной массы значений (как и в случае со стажем)."
   ]
  },
  {
   "cell_type": "code",
   "execution_count": null,
   "id": "512cc503-d1c9-4b69-8aa6-5e4602fd3a2e",
   "metadata": {},
   "outputs": [],
   "source": [
    "med_total_income = df['total_income'].median() # рассчитываем медиану\n",
    "df['total_income'] = df['total_income'].fillna(med_total_income)"
   ]
  },
  {
   "cell_type": "code",
   "execution_count": 57,
   "id": "f93d33a5-02d2-4b3d-96d3-e3e610402d12",
   "metadata": {},
   "outputs": [
    {
     "data": {
      "text/plain": [
       "children            0\n",
       "days_employed       0\n",
       "dob_years           0\n",
       "education_id        0\n",
       "family_status_id    0\n",
       "gender              0\n",
       "income_type         0\n",
       "debt                0\n",
       "total_income        0\n",
       "purpose_category    0\n",
       "dtype: int64"
      ]
     },
     "execution_count": 57,
     "metadata": {},
     "output_type": "execute_result"
    }
   ],
   "source": [
    "df.isna().sum() # проверка"
   ]
  },
  {
   "cell_type": "markdown",
   "id": "c74a9210-6abf-4704-8ad5-515edd8590c0",
   "metadata": {},
   "source": [
    "### Изменение типов данных"
   ]
  },
  {
   "cell_type": "markdown",
   "id": "424689bb-33f4-483f-8a06-00634fbf9a06",
   "metadata": {},
   "source": [
    "Теперь посмотрим на цифровые значения в таблице.\n",
    "\n",
    "Для начала заменим вещественный тип данных в столбце `total_income` на целочисленный."
   ]
  },
  {
   "cell_type": "code",
   "execution_count": 59,
   "id": "81955723-140c-48eb-818e-9d6428cb6ac9",
   "metadata": {},
   "outputs": [
    {
     "data": {
      "text/html": [
       "<div>\n",
       "<style scoped>\n",
       "    .dataframe tbody tr th:only-of-type {\n",
       "        vertical-align: middle;\n",
       "    }\n",
       "\n",
       "    .dataframe tbody tr th {\n",
       "        vertical-align: top;\n",
       "    }\n",
       "\n",
       "    .dataframe thead th {\n",
       "        text-align: right;\n",
       "    }\n",
       "</style>\n",
       "<table border=\"1\" class=\"dataframe\">\n",
       "  <thead>\n",
       "    <tr style=\"text-align: right;\">\n",
       "      <th></th>\n",
       "      <th>children</th>\n",
       "      <th>days_employed</th>\n",
       "      <th>dob_years</th>\n",
       "      <th>education_id</th>\n",
       "      <th>family_status_id</th>\n",
       "      <th>gender</th>\n",
       "      <th>income_type</th>\n",
       "      <th>debt</th>\n",
       "      <th>total_income</th>\n",
       "      <th>purpose_category</th>\n",
       "    </tr>\n",
       "  </thead>\n",
       "  <tbody>\n",
       "    <tr>\n",
       "      <th>0</th>\n",
       "      <td>1</td>\n",
       "      <td>8437.673028</td>\n",
       "      <td>42</td>\n",
       "      <td>0</td>\n",
       "      <td>0</td>\n",
       "      <td>F</td>\n",
       "      <td>сотрудник</td>\n",
       "      <td>0</td>\n",
       "      <td>253875</td>\n",
       "      <td>операции с недвижимостью</td>\n",
       "    </tr>\n",
       "    <tr>\n",
       "      <th>1</th>\n",
       "      <td>1</td>\n",
       "      <td>4024.803754</td>\n",
       "      <td>36</td>\n",
       "      <td>1</td>\n",
       "      <td>0</td>\n",
       "      <td>F</td>\n",
       "      <td>сотрудник</td>\n",
       "      <td>0</td>\n",
       "      <td>112080</td>\n",
       "      <td>операции с автомобилем</td>\n",
       "    </tr>\n",
       "    <tr>\n",
       "      <th>2</th>\n",
       "      <td>0</td>\n",
       "      <td>5623.422610</td>\n",
       "      <td>33</td>\n",
       "      <td>1</td>\n",
       "      <td>0</td>\n",
       "      <td>M</td>\n",
       "      <td>сотрудник</td>\n",
       "      <td>0</td>\n",
       "      <td>145885</td>\n",
       "      <td>операции с недвижимостью</td>\n",
       "    </tr>\n",
       "    <tr>\n",
       "      <th>3</th>\n",
       "      <td>3</td>\n",
       "      <td>4124.747207</td>\n",
       "      <td>32</td>\n",
       "      <td>1</td>\n",
       "      <td>0</td>\n",
       "      <td>M</td>\n",
       "      <td>сотрудник</td>\n",
       "      <td>0</td>\n",
       "      <td>267628</td>\n",
       "      <td>получение образования</td>\n",
       "    </tr>\n",
       "    <tr>\n",
       "      <th>4</th>\n",
       "      <td>0</td>\n",
       "      <td>1629.997862</td>\n",
       "      <td>53</td>\n",
       "      <td>1</td>\n",
       "      <td>1</td>\n",
       "      <td>F</td>\n",
       "      <td>пенсионер</td>\n",
       "      <td>0</td>\n",
       "      <td>158616</td>\n",
       "      <td>проведение свадьбы</td>\n",
       "    </tr>\n",
       "  </tbody>\n",
       "</table>\n",
       "</div>"
      ],
      "text/plain": [
       "   children  days_employed  dob_years  education_id  family_status_id gender  \\\n",
       "0         1    8437.673028         42             0                 0      F   \n",
       "1         1    4024.803754         36             1                 0      F   \n",
       "2         0    5623.422610         33             1                 0      M   \n",
       "3         3    4124.747207         32             1                 0      M   \n",
       "4         0    1629.997862         53             1                 1      F   \n",
       "\n",
       "  income_type  debt  total_income          purpose_category  \n",
       "0   сотрудник     0        253875  операции с недвижимостью  \n",
       "1   сотрудник     0        112080    операции с автомобилем  \n",
       "2   сотрудник     0        145885  операции с недвижимостью  \n",
       "3   сотрудник     0        267628     получение образования  \n",
       "4   пенсионер     0        158616        проведение свадьбы  "
      ]
     },
     "execution_count": 59,
     "metadata": {},
     "output_type": "execute_result"
    }
   ],
   "source": [
    "df['total_income'] = df['total_income'].astype('int')\n",
    "df.head()"
   ]
  },
  {
   "cell_type": "markdown",
   "id": "6d978df5-91fa-4e2d-a50d-2fcf69180294",
   "metadata": {},
   "source": [
    "Проверим, что столбец `debt`имеет бинарное значение (0 = задолженности нет или 1 = наличие задолженности):"
   ]
  },
  {
   "cell_type": "code",
   "execution_count": 60,
   "id": "55ade429-b172-4615-a82d-7cfaba6f2486",
   "metadata": {},
   "outputs": [
    {
     "data": {
      "text/plain": [
       "debt\n",
       "0    19552\n",
       "1     1725\n",
       "Name: count, dtype: int64"
      ]
     },
     "execution_count": 60,
     "metadata": {},
     "output_type": "execute_result"
    }
   ],
   "source": [
    "df['debt'].value_counts()    # просмотр уникальных значений"
   ]
  },
  {
   "cell_type": "markdown",
   "id": "43dec9b5-361e-476b-9f12-d1ae18e6f2ff",
   "metadata": {},
   "source": [
    "### Категоризация дохода"
   ]
  },
  {
   "cell_type": "markdown",
   "id": "c7a17daf-6545-4ee3-8e93-66c9becb8fad",
   "metadata": {},
   "source": [
    "Остался последний шаг предобработки данных: категоризация дохода.\n",
    "\n",
    "На основании диапазонов, указанных ниже, создадим столбец `total_income_category` с категориями:\n",
    "\n",
    "* `E` - 0 – 30 000 руб.;\n",
    "* `D` - 30 001 – 50 000 руб.;\n",
    "* `C` - 50 001 – 200 000 руб.;\n",
    "* `B` - 200 001 – 1 000 000 руб.;\n",
    "* `A` - 1 000 001 руб.  и выше."
   ]
  },
  {
   "cell_type": "code",
   "execution_count": 61,
   "id": "3364acad-8f78-43a1-ab28-0ef1f94cc0ba",
   "metadata": {},
   "outputs": [
    {
     "data": {
      "text/plain": [
       "'C'"
      ]
     },
     "execution_count": 61,
     "metadata": {},
     "output_type": "execute_result"
    }
   ],
   "source": [
    "def income_total(incomes):    # создаем функцию\n",
    "    if incomes <= 30000:\n",
    "        return 'E'\n",
    "    if incomes <= 50000:\n",
    "        return 'D'\n",
    "    if incomes <= 200000:\n",
    "        return 'C'\n",
    "    if incomes <=1000000:\n",
    "        return 'B'\n",
    "    return 'A'\n",
    "\n",
    "income_total(150000)    # проверка"
   ]
  },
  {
   "cell_type": "code",
   "execution_count": 62,
   "id": "4b392d40-69b9-41f9-becc-2d82c0f87af3",
   "metadata": {},
   "outputs": [],
   "source": [
    "df['total_income_category'] = df['total_income'].apply(income_total)    # применяем функцию "
   ]
  },
  {
   "cell_type": "markdown",
   "id": "2b6294ae-89db-4f55-88be-5d723a75d21c",
   "metadata": {},
   "source": [
    "Итак, наша таблица с данными полностью готова:"
   ]
  },
  {
   "cell_type": "code",
   "execution_count": 63,
   "id": "9fd99c22-3819-4de0-9194-24574eec4d98",
   "metadata": {},
   "outputs": [
    {
     "data": {
      "text/html": [
       "<div>\n",
       "<style scoped>\n",
       "    .dataframe tbody tr th:only-of-type {\n",
       "        vertical-align: middle;\n",
       "    }\n",
       "\n",
       "    .dataframe tbody tr th {\n",
       "        vertical-align: top;\n",
       "    }\n",
       "\n",
       "    .dataframe thead th {\n",
       "        text-align: right;\n",
       "    }\n",
       "</style>\n",
       "<table border=\"1\" class=\"dataframe\">\n",
       "  <thead>\n",
       "    <tr style=\"text-align: right;\">\n",
       "      <th></th>\n",
       "      <th>children</th>\n",
       "      <th>days_employed</th>\n",
       "      <th>dob_years</th>\n",
       "      <th>education_id</th>\n",
       "      <th>family_status_id</th>\n",
       "      <th>gender</th>\n",
       "      <th>income_type</th>\n",
       "      <th>debt</th>\n",
       "      <th>total_income</th>\n",
       "      <th>purpose_category</th>\n",
       "      <th>total_income_category</th>\n",
       "    </tr>\n",
       "  </thead>\n",
       "  <tbody>\n",
       "    <tr>\n",
       "      <th>0</th>\n",
       "      <td>1</td>\n",
       "      <td>8437.673028</td>\n",
       "      <td>42</td>\n",
       "      <td>0</td>\n",
       "      <td>0</td>\n",
       "      <td>F</td>\n",
       "      <td>сотрудник</td>\n",
       "      <td>0</td>\n",
       "      <td>253875</td>\n",
       "      <td>операции с недвижимостью</td>\n",
       "      <td>B</td>\n",
       "    </tr>\n",
       "    <tr>\n",
       "      <th>1</th>\n",
       "      <td>1</td>\n",
       "      <td>4024.803754</td>\n",
       "      <td>36</td>\n",
       "      <td>1</td>\n",
       "      <td>0</td>\n",
       "      <td>F</td>\n",
       "      <td>сотрудник</td>\n",
       "      <td>0</td>\n",
       "      <td>112080</td>\n",
       "      <td>операции с автомобилем</td>\n",
       "      <td>C</td>\n",
       "    </tr>\n",
       "    <tr>\n",
       "      <th>2</th>\n",
       "      <td>0</td>\n",
       "      <td>5623.422610</td>\n",
       "      <td>33</td>\n",
       "      <td>1</td>\n",
       "      <td>0</td>\n",
       "      <td>M</td>\n",
       "      <td>сотрудник</td>\n",
       "      <td>0</td>\n",
       "      <td>145885</td>\n",
       "      <td>операции с недвижимостью</td>\n",
       "      <td>C</td>\n",
       "    </tr>\n",
       "    <tr>\n",
       "      <th>3</th>\n",
       "      <td>3</td>\n",
       "      <td>4124.747207</td>\n",
       "      <td>32</td>\n",
       "      <td>1</td>\n",
       "      <td>0</td>\n",
       "      <td>M</td>\n",
       "      <td>сотрудник</td>\n",
       "      <td>0</td>\n",
       "      <td>267628</td>\n",
       "      <td>получение образования</td>\n",
       "      <td>B</td>\n",
       "    </tr>\n",
       "    <tr>\n",
       "      <th>4</th>\n",
       "      <td>0</td>\n",
       "      <td>1629.997862</td>\n",
       "      <td>53</td>\n",
       "      <td>1</td>\n",
       "      <td>1</td>\n",
       "      <td>F</td>\n",
       "      <td>пенсионер</td>\n",
       "      <td>0</td>\n",
       "      <td>158616</td>\n",
       "      <td>проведение свадьбы</td>\n",
       "      <td>C</td>\n",
       "    </tr>\n",
       "    <tr>\n",
       "      <th>5</th>\n",
       "      <td>0</td>\n",
       "      <td>926.185831</td>\n",
       "      <td>27</td>\n",
       "      <td>0</td>\n",
       "      <td>1</td>\n",
       "      <td>M</td>\n",
       "      <td>компаньон</td>\n",
       "      <td>0</td>\n",
       "      <td>255763</td>\n",
       "      <td>операции с недвижимостью</td>\n",
       "      <td>B</td>\n",
       "    </tr>\n",
       "    <tr>\n",
       "      <th>6</th>\n",
       "      <td>0</td>\n",
       "      <td>2879.202052</td>\n",
       "      <td>43</td>\n",
       "      <td>0</td>\n",
       "      <td>0</td>\n",
       "      <td>F</td>\n",
       "      <td>компаньон</td>\n",
       "      <td>0</td>\n",
       "      <td>240525</td>\n",
       "      <td>операции с недвижимостью</td>\n",
       "      <td>B</td>\n",
       "    </tr>\n",
       "    <tr>\n",
       "      <th>7</th>\n",
       "      <td>0</td>\n",
       "      <td>152.779569</td>\n",
       "      <td>50</td>\n",
       "      <td>1</td>\n",
       "      <td>0</td>\n",
       "      <td>M</td>\n",
       "      <td>сотрудник</td>\n",
       "      <td>0</td>\n",
       "      <td>135823</td>\n",
       "      <td>получение образования</td>\n",
       "      <td>C</td>\n",
       "    </tr>\n",
       "    <tr>\n",
       "      <th>8</th>\n",
       "      <td>2</td>\n",
       "      <td>6929.865299</td>\n",
       "      <td>35</td>\n",
       "      <td>0</td>\n",
       "      <td>1</td>\n",
       "      <td>F</td>\n",
       "      <td>сотрудник</td>\n",
       "      <td>0</td>\n",
       "      <td>95856</td>\n",
       "      <td>проведение свадьбы</td>\n",
       "      <td>C</td>\n",
       "    </tr>\n",
       "    <tr>\n",
       "      <th>9</th>\n",
       "      <td>0</td>\n",
       "      <td>2188.756445</td>\n",
       "      <td>41</td>\n",
       "      <td>1</td>\n",
       "      <td>0</td>\n",
       "      <td>M</td>\n",
       "      <td>сотрудник</td>\n",
       "      <td>0</td>\n",
       "      <td>144425</td>\n",
       "      <td>операции с недвижимостью</td>\n",
       "      <td>C</td>\n",
       "    </tr>\n",
       "  </tbody>\n",
       "</table>\n",
       "</div>"
      ],
      "text/plain": [
       "   children  days_employed  dob_years  education_id  family_status_id gender  \\\n",
       "0         1    8437.673028         42             0                 0      F   \n",
       "1         1    4024.803754         36             1                 0      F   \n",
       "2         0    5623.422610         33             1                 0      M   \n",
       "3         3    4124.747207         32             1                 0      M   \n",
       "4         0    1629.997862         53             1                 1      F   \n",
       "5         0     926.185831         27             0                 1      M   \n",
       "6         0    2879.202052         43             0                 0      F   \n",
       "7         0     152.779569         50             1                 0      M   \n",
       "8         2    6929.865299         35             0                 1      F   \n",
       "9         0    2188.756445         41             1                 0      M   \n",
       "\n",
       "  income_type  debt  total_income          purpose_category  \\\n",
       "0   сотрудник     0        253875  операции с недвижимостью   \n",
       "1   сотрудник     0        112080    операции с автомобилем   \n",
       "2   сотрудник     0        145885  операции с недвижимостью   \n",
       "3   сотрудник     0        267628     получение образования   \n",
       "4   пенсионер     0        158616        проведение свадьбы   \n",
       "5   компаньон     0        255763  операции с недвижимостью   \n",
       "6   компаньон     0        240525  операции с недвижимостью   \n",
       "7   сотрудник     0        135823     получение образования   \n",
       "8   сотрудник     0         95856        проведение свадьбы   \n",
       "9   сотрудник     0        144425  операции с недвижимостью   \n",
       "\n",
       "  total_income_category  \n",
       "0                     B  \n",
       "1                     C  \n",
       "2                     C  \n",
       "3                     B  \n",
       "4                     C  \n",
       "5                     B  \n",
       "6                     B  \n",
       "7                     C  \n",
       "8                     C  \n",
       "9                     C  "
      ]
     },
     "execution_count": 63,
     "metadata": {},
     "output_type": "execute_result"
    }
   ],
   "source": [
    "df.head(10)    # вывод первых 10 строк"
   ]
  },
  {
   "cell_type": "markdown",
   "id": "991d1992-7370-4808-9d53-9807b4deb642",
   "metadata": {},
   "source": [
    "**Выводы**\n",
    "\n",
    "Предобработка обнаружила три проблемы в данных:\n",
    "\n",
    "* анамалии в данных,\n",
    "* пропущенные значения,\n",
    "* дубликаты — явные и неявные.\n",
    "\n",
    "Кат же мы категоризировали данные,чтобы упростить работу с таблицей. \n",
    "\n",
    "Пропущенные значения в количественных данных мы заменили на медианное. \n",
    "\n",
    "Теперь можно перейти к ответу на вопросы. "
   ]
  },
  {
   "cell_type": "markdown",
   "id": "f5138d2a-3c9d-44b3-a52e-ec163e3508dc",
   "metadata": {},
   "source": [
    "## Шаг 3. Ответы на вопросы."
   ]
  },
  {
   "cell_type": "markdown",
   "id": "43576ef3-1bbf-4012-8b41-4f59f70e5e67",
   "metadata": {},
   "source": [
    "### Вопрос 1:"
   ]
  },
  {
   "cell_type": "markdown",
   "id": "a39ed4b6-189d-4642-bd73-a0543004c8b3",
   "metadata": {},
   "source": [
    "Есть ли зависимость между количеством детей и возвратом кредита в срок?"
   ]
  },
  {
   "cell_type": "code",
   "execution_count": 64,
   "id": "0d1f3b67-0a18-446e-9aee-69fe22c7f789",
   "metadata": {},
   "outputs": [
    {
     "data": {
      "text/html": [
       "<div>\n",
       "<style scoped>\n",
       "    .dataframe tbody tr th:only-of-type {\n",
       "        vertical-align: middle;\n",
       "    }\n",
       "\n",
       "    .dataframe tbody tr th {\n",
       "        vertical-align: top;\n",
       "    }\n",
       "\n",
       "    .dataframe thead th {\n",
       "        text-align: right;\n",
       "    }\n",
       "</style>\n",
       "<table border=\"1\" class=\"dataframe\">\n",
       "  <thead>\n",
       "    <tr style=\"text-align: right;\">\n",
       "      <th>debt</th>\n",
       "      <th>children</th>\n",
       "      <th>0</th>\n",
       "      <th>1</th>\n",
       "      <th>percent</th>\n",
       "    </tr>\n",
       "  </thead>\n",
       "  <tbody>\n",
       "    <tr>\n",
       "      <th>5</th>\n",
       "      <td>5</td>\n",
       "      <td>9</td>\n",
       "      <td>0</td>\n",
       "      <td>0.000000</td>\n",
       "    </tr>\n",
       "    <tr>\n",
       "      <th>0</th>\n",
       "      <td>0</td>\n",
       "      <td>13009</td>\n",
       "      <td>1059</td>\n",
       "      <td>7.527722</td>\n",
       "    </tr>\n",
       "    <tr>\n",
       "      <th>3</th>\n",
       "      <td>3</td>\n",
       "      <td>301</td>\n",
       "      <td>27</td>\n",
       "      <td>8.231707</td>\n",
       "    </tr>\n",
       "    <tr>\n",
       "      <th>1</th>\n",
       "      <td>1</td>\n",
       "      <td>4351</td>\n",
       "      <td>441</td>\n",
       "      <td>9.202838</td>\n",
       "    </tr>\n",
       "    <tr>\n",
       "      <th>2</th>\n",
       "      <td>2</td>\n",
       "      <td>1845</td>\n",
       "      <td>194</td>\n",
       "      <td>9.514468</td>\n",
       "    </tr>\n",
       "    <tr>\n",
       "      <th>4</th>\n",
       "      <td>4</td>\n",
       "      <td>37</td>\n",
       "      <td>4</td>\n",
       "      <td>9.756098</td>\n",
       "    </tr>\n",
       "  </tbody>\n",
       "</table>\n",
       "</div>"
      ],
      "text/plain": [
       "debt  children      0     1   percent\n",
       "5            5      9     0  0.000000\n",
       "0            0  13009  1059  7.527722\n",
       "3            3    301    27  8.231707\n",
       "1            1   4351   441  9.202838\n",
       "2            2   1845   194  9.514468\n",
       "4            4     37     4  9.756098"
      ]
     },
     "execution_count": 64,
     "metadata": {},
     "output_type": "execute_result"
    }
   ],
   "source": [
    "# сформируем сводную таблицу и добавим дополнительный столбец с % случаев просрочки относительно всех заёмщиков\n",
    "# в данной категории\n",
    "\n",
    "children_data_pivot = df.pivot_table(index=['children'], columns='debt', values='purpose_category', aggfunc='count')\n",
    "\n",
    "children_data_pivot =  children_data_pivot.fillna(0)   # заполним нулевое значение в сводой таблице\n",
    "children_data_pivot = children_data_pivot.reset_index()    # сбросим мультииндексы в сводной таблице\n",
    "children_data_pivot['percent'] = (children_data_pivot[1] / (children_data_pivot[1] + children_data_pivot[0])) *100\n",
    "children_data_pivot[1] = children_data_pivot[1].astype('int')    # переводим в цельночисленный формат \n",
    "children_data_pivot[0] = children_data_pivot[0].astype('int')\n",
    "children_data_pivot.sort_values('percent')"
   ]
  },
  {
   "cell_type": "markdown",
   "id": "aca66d54-bcfb-4714-b27c-6f1d644a620d",
   "metadata": {},
   "source": [
    "Сводная таблица показывает рост процента просрочки по займу в зависимости от количества детей. Процент рассчитан от общего количества заёмщиков в каждой из категорий (0,1,2,3,4,5 детей соответственно).    \n",
    "\n",
    "Напоминаем, что:\n",
    "* 0 - задолженности нет;\n",
    "* 1 - наличие задолженности.   \n",
    "\n",
    "\n",
    "Попробуем визуализировать таблицу."
   ]
  },
  {
   "cell_type": "code",
   "execution_count": 65,
   "id": "f82ea92d-b1f3-448d-9dd9-95c4eae45374",
   "metadata": {},
   "outputs": [
    {
     "data": {
      "image/png": "[encoded data removed]",
      "text/plain": [
       "<Figure size 640x480 with 1 Axes>"
      ]
     },
     "metadata": {},
     "output_type": "display_data"
    }
   ],
   "source": [
    "sns.barplot(x='children',y='percent', data = children_data_pivot, palette='Pastel2_r')\n",
    "plt.xlabel('Количество детей')\n",
    "plt.ylabel('% задолженности')\n",
    "plt.show()"
   ]
  },
  {
   "cell_type": "markdown",
   "id": "5a38a655-50e4-4ab0-b93a-2aff5df96238",
   "metadata": {},
   "source": [
    "### Вывод 1:"
   ]
  },
  {
   "cell_type": "markdown",
   "id": "8aaa0fe2-2c04-4031-935b-872f2fa8ca14",
   "metadata": {},
   "source": [
    "Как ни странно, ни одного случая просрочки по кредиту нет у заёмщиков, имеющих пятерых детей.   \n",
    "Но это частный случай, ведь такое количество детей - редкость.    \n",
    "Наименьший процент просрочки - у  бездетных заёмщиков (7,52%), в других группах эта доля выше на 1-2%."
   ]
  },
  {
   "cell_type": "markdown",
   "id": "f1c40bdd-ac8d-4756-8802-68b7e242b8bf",
   "metadata": {},
   "source": [
    "### Вопрос 2:"
   ]
  },
  {
   "cell_type": "markdown",
   "id": "1c79e110-5c8c-4f7c-866f-184a9efda0f6",
   "metadata": {},
   "source": [
    "* Есть ли зависимость между семейным положением и возвратом кредита в срок?"
   ]
  },
  {
   "cell_type": "code",
   "execution_count": 66,
   "id": "2c5a7c5f-57d8-4b9e-9a21-d2b20f165a5b",
   "metadata": {},
   "outputs": [
    {
     "data": {
      "text/html": [
       "<div>\n",
       "<style scoped>\n",
       "    .dataframe tbody tr th:only-of-type {\n",
       "        vertical-align: middle;\n",
       "    }\n",
       "\n",
       "    .dataframe tbody tr th {\n",
       "        vertical-align: top;\n",
       "    }\n",
       "\n",
       "    .dataframe thead th {\n",
       "        text-align: right;\n",
       "    }\n",
       "</style>\n",
       "<table border=\"1\" class=\"dataframe\">\n",
       "  <thead>\n",
       "    <tr style=\"text-align: right;\">\n",
       "      <th></th>\n",
       "      <th>family_status_id</th>\n",
       "      <th>0</th>\n",
       "      <th>1</th>\n",
       "      <th>percent</th>\n",
       "      <th>family_status</th>\n",
       "    </tr>\n",
       "  </thead>\n",
       "  <tbody>\n",
       "    <tr>\n",
       "      <th>2</th>\n",
       "      <td>2</td>\n",
       "      <td>888</td>\n",
       "      <td>62</td>\n",
       "      <td>6.526316</td>\n",
       "      <td>вдовец / вдова</td>\n",
       "    </tr>\n",
       "    <tr>\n",
       "      <th>3</th>\n",
       "      <td>3</td>\n",
       "      <td>1099</td>\n",
       "      <td>84</td>\n",
       "      <td>7.100592</td>\n",
       "      <td>в разводе</td>\n",
       "    </tr>\n",
       "    <tr>\n",
       "      <th>0</th>\n",
       "      <td>0</td>\n",
       "      <td>11318</td>\n",
       "      <td>924</td>\n",
       "      <td>7.547786</td>\n",
       "      <td>женат / замужем</td>\n",
       "    </tr>\n",
       "    <tr>\n",
       "      <th>1</th>\n",
       "      <td>1</td>\n",
       "      <td>3734</td>\n",
       "      <td>383</td>\n",
       "      <td>9.302890</td>\n",
       "      <td>гражданский брак</td>\n",
       "    </tr>\n",
       "    <tr>\n",
       "      <th>4</th>\n",
       "      <td>4</td>\n",
       "      <td>2513</td>\n",
       "      <td>272</td>\n",
       "      <td>9.766607</td>\n",
       "      <td>не женат / не замужем</td>\n",
       "    </tr>\n",
       "  </tbody>\n",
       "</table>\n",
       "</div>"
      ],
      "text/plain": [
       "   family_status_id      0    1   percent          family_status\n",
       "2                 2    888   62  6.526316         вдовец / вдова\n",
       "3                 3   1099   84  7.100592              в разводе\n",
       "0                 0  11318  924  7.547786        женат / замужем\n",
       "1                 1   3734  383  9.302890       гражданский брак\n",
       "4                 4   2513  272  9.766607  не женат / не замужем"
      ]
     },
     "execution_count": 66,
     "metadata": {},
     "output_type": "execute_result"
    }
   ],
   "source": [
    "# сформируем сводную таблицу и добавим дополнительный столбец с % случаев просрочки относительно всех заёмщиков\n",
    "# в данной категории\n",
    "# добавим словесную расшифровку ID статуса из ранее созданного словаря\n",
    "\n",
    "family_data_pivot = df.pivot_table(index=['family_status_id'], columns='debt', values='purpose_category', aggfunc='count')\n",
    "family_data_pivot['percent'] = (family_data_pivot[1] / (family_data_pivot[1] + family_data_pivot[0])) *100\n",
    "family_data_pivot = family_data_pivot.merge(df_family, on='family_status_id', how='left')\n",
    "family_data_pivot.sort_values('percent')"
   ]
  },
  {
   "cell_type": "markdown",
   "id": "a12293a7-dcc3-4b12-b7e6-2f9175da4c26",
   "metadata": {},
   "source": [
    "Сводная таблица показывает зависимость возникновении просрочки по займу в зависимости от семейного положения.   \n",
    "\n",
    "Процент просрочки, который рассчитан от общего количества заёмщиков в каждой из категорий, ниже у людей, которые оформляли свои отношения официально. "
   ]
  },
  {
   "cell_type": "code",
   "execution_count": 72,
   "id": "64f88183-562d-4e00-ba98-dd92b0b38f4c",
   "metadata": {},
   "outputs": [
    {
     "data": {
      "image/png": "[encoded data removed]",
      "text/plain": [
       "<Figure size 640x480 with 1 Axes>"
      ]
     },
     "metadata": {},
     "output_type": "display_data"
    }
   ],
   "source": [
    "# строим диаграмму\n",
    "\n",
    "sns.barplot(y='family_status',x='percent',data = family_data_pivot, palette='Pastel2_r')\n",
    "plt.xlabel('% задолженности')\n",
    "plt.ylabel('Семейное положение')\n",
    "plt.show()    "
   ]
  },
  {
   "cell_type": "markdown",
   "id": "d6803196-4222-41f6-b618-659a79a3e6a3",
   "metadata": {},
   "source": [
    "### Вывод 2:"
   ]
  },
  {
   "cell_type": "markdown",
   "id": "5c2a3446-fe79-4a82-ac41-3683847cb71d",
   "metadata": {},
   "source": [
    "Наиболее доброcовестными заёмщиками являются люди, имевшие опыт семейных отношений, оформленных официально (вне зависимости от того, закончились эти отношения по каким-то причинам или нет). Количество клиентов, которые не имели такого опыта, и которые имеют задолженность по кредиту - выше на 2-3%."
   ]
  },
  {
   "cell_type": "markdown",
   "id": "3011ad2d-f577-49dc-aa2f-66230028fadc",
   "metadata": {},
   "source": [
    "### Вопрос 3:"
   ]
  },
  {
   "cell_type": "markdown",
   "id": "7f3becfa-c67c-4e58-8a09-d86104d80509",
   "metadata": {},
   "source": [
    "* Есть ли зависимость между уровнем дохода и возвратом кредита в срок?"
   ]
  },
  {
   "cell_type": "code",
   "execution_count": 73,
   "id": "8f0a0407-c16b-4c7b-9a40-784c6dbf850a",
   "metadata": {},
   "outputs": [
    {
     "data": {
      "text/html": [
       "<div>\n",
       "<style scoped>\n",
       "    .dataframe tbody tr th:only-of-type {\n",
       "        vertical-align: middle;\n",
       "    }\n",
       "\n",
       "    .dataframe tbody tr th {\n",
       "        vertical-align: top;\n",
       "    }\n",
       "\n",
       "    .dataframe thead th {\n",
       "        text-align: right;\n",
       "    }\n",
       "</style>\n",
       "<table border=\"1\" class=\"dataframe\">\n",
       "  <thead>\n",
       "    <tr style=\"text-align: right;\">\n",
       "      <th>debt</th>\n",
       "      <th>total_income_category</th>\n",
       "      <th>0</th>\n",
       "      <th>1</th>\n",
       "      <th>percent</th>\n",
       "    </tr>\n",
       "  </thead>\n",
       "  <tbody>\n",
       "    <tr>\n",
       "      <th>3</th>\n",
       "      <td>D</td>\n",
       "      <td>327</td>\n",
       "      <td>21</td>\n",
       "      <td>6.034483</td>\n",
       "    </tr>\n",
       "    <tr>\n",
       "      <th>1</th>\n",
       "      <td>B</td>\n",
       "      <td>4641</td>\n",
       "      <td>353</td>\n",
       "      <td>7.068482</td>\n",
       "    </tr>\n",
       "    <tr>\n",
       "      <th>0</th>\n",
       "      <td>A</td>\n",
       "      <td>23</td>\n",
       "      <td>2</td>\n",
       "      <td>8.000000</td>\n",
       "    </tr>\n",
       "    <tr>\n",
       "      <th>2</th>\n",
       "      <td>C</td>\n",
       "      <td>14541</td>\n",
       "      <td>1347</td>\n",
       "      <td>8.478097</td>\n",
       "    </tr>\n",
       "    <tr>\n",
       "      <th>4</th>\n",
       "      <td>E</td>\n",
       "      <td>20</td>\n",
       "      <td>2</td>\n",
       "      <td>9.090909</td>\n",
       "    </tr>\n",
       "  </tbody>\n",
       "</table>\n",
       "</div>"
      ],
      "text/plain": [
       "debt total_income_category      0     1   percent\n",
       "3                        D    327    21  6.034483\n",
       "1                        B   4641   353  7.068482\n",
       "0                        A     23     2  8.000000\n",
       "2                        C  14541  1347  8.478097\n",
       "4                        E     20     2  9.090909"
      ]
     },
     "execution_count": 73,
     "metadata": {},
     "output_type": "execute_result"
    }
   ],
   "source": [
    "# сформируем сводную таблицу и добавим дополнительный столбец с % случаев просрочки относительно всех заёмщиков\n",
    "# в данной категории\n",
    "\n",
    "income_data_pivot = df.pivot_table(index=['total_income_category'], columns='debt', values='gender', aggfunc='count')\n",
    "income_data_pivot['percent'] = (income_data_pivot[1] / (income_data_pivot[1] + income_data_pivot[0])) *100\n",
    "income_data_pivot = income_data_pivot.reset_index()    # сбросим мультииндексы в сводной таблице\n",
    "income_data_pivot.sort_values('percent')"
   ]
  },
  {
   "cell_type": "code",
   "execution_count": 74,
   "id": "3899f881-ef59-446c-9bce-aed4d843bef3",
   "metadata": {},
   "outputs": [
    {
     "data": {
      "image/png": "[encoded data removed]",
      "text/plain": [
       "<Figure size 640x480 with 1 Axes>"
      ]
     },
     "metadata": {},
     "output_type": "display_data"
    }
   ],
   "source": [
    "# строим диаграмму\n",
    "\n",
    "sns.barplot(y='total_income_category',x='percent',data = income_data_pivot, palette='Pastel2_r')\n",
    "plt.xlabel('% задолженности')\n",
    "plt.ylabel('Категории уровня дохода')\n",
    "plt.show()"
   ]
  },
  {
   "cell_type": "markdown",
   "id": "4912d262-033c-4d03-96a2-30578e409fde",
   "metadata": {},
   "source": [
    "### Вывод 3:"
   ]
  },
  {
   "cell_type": "markdown",
   "id": "09fb93e1-725d-4766-a77a-51e90cb87092",
   "metadata": {},
   "source": [
    "Как видно из таблицы и диаграммы выше, заёмщики с уровнем дохода 30 001 - 50 000 рублей в первую очередь стараются погасить кредит согласно расписанию. Процент просрочки по ним самый низкий: всего 6%.\n",
    "\n",
    "Далее идут люди с доходом выше среднего  и высоким доходом (от 200 001 рублей и выше).\n",
    "\n",
    "Самыми неисполнительными заёмщиками являются лица с самым низким уровнем дохода (менее 30 000 рублей.)"
   ]
  },
  {
   "cell_type": "markdown",
   "id": "ea71915c-e989-41ce-b4a2-671ba27bc8e0",
   "metadata": {},
   "source": [
    "### Вопрос 4:"
   ]
  },
  {
   "cell_type": "markdown",
   "id": "f0d0d572-2747-499a-b7cb-4023e18b8289",
   "metadata": {},
   "source": [
    "* Как разные цели кредита влияют на его возврат в срок?"
   ]
  },
  {
   "cell_type": "code",
   "execution_count": 77,
   "id": "8d616229-4473-4fcb-89cd-d9d660a4c983",
   "metadata": {},
   "outputs": [
    {
     "data": {
      "text/html": [
       "<div>\n",
       "<style scoped>\n",
       "    .dataframe tbody tr th:only-of-type {\n",
       "        vertical-align: middle;\n",
       "    }\n",
       "\n",
       "    .dataframe tbody tr th {\n",
       "        vertical-align: top;\n",
       "    }\n",
       "\n",
       "    .dataframe thead th {\n",
       "        text-align: right;\n",
       "    }\n",
       "</style>\n",
       "<table border=\"1\" class=\"dataframe\">\n",
       "  <thead>\n",
       "    <tr style=\"text-align: right;\">\n",
       "      <th>debt</th>\n",
       "      <th>purpose_category</th>\n",
       "      <th>0</th>\n",
       "      <th>1</th>\n",
       "      <th>percent</th>\n",
       "    </tr>\n",
       "  </thead>\n",
       "  <tbody>\n",
       "    <tr>\n",
       "      <th>1</th>\n",
       "      <td>операции с недвижимостью</td>\n",
       "      <td>9950</td>\n",
       "      <td>777</td>\n",
       "      <td>7.243404</td>\n",
       "    </tr>\n",
       "    <tr>\n",
       "      <th>3</th>\n",
       "      <td>проведение свадьбы</td>\n",
       "      <td>2120</td>\n",
       "      <td>181</td>\n",
       "      <td>7.866145</td>\n",
       "    </tr>\n",
       "    <tr>\n",
       "      <th>2</th>\n",
       "      <td>получение образования</td>\n",
       "      <td>3611</td>\n",
       "      <td>369</td>\n",
       "      <td>9.271357</td>\n",
       "    </tr>\n",
       "    <tr>\n",
       "      <th>0</th>\n",
       "      <td>операции с автомобилем</td>\n",
       "      <td>3871</td>\n",
       "      <td>398</td>\n",
       "      <td>9.323026</td>\n",
       "    </tr>\n",
       "  </tbody>\n",
       "</table>\n",
       "</div>"
      ],
      "text/plain": [
       "debt          purpose_category     0    1   percent\n",
       "1     операции с недвижимостью  9950  777  7.243404\n",
       "3           проведение свадьбы  2120  181  7.866145\n",
       "2        получение образования  3611  369  9.271357\n",
       "0       операции с автомобилем  3871  398  9.323026"
      ]
     },
     "execution_count": 77,
     "metadata": {},
     "output_type": "execute_result"
    }
   ],
   "source": [
    "# сформируем сводную таблицу и добавим дополнительный столбец с % случаев просрочки относительно всех заёмщиков\n",
    "# относительно своей категории\n",
    "\n",
    "purpose_data_pivot = df.pivot_table(index=['purpose_category'], columns='debt', values='gender', aggfunc='count')\n",
    "purpose_data_pivot['percent'] = (purpose_data_pivot[1] / (purpose_data_pivot[1] + purpose_data_pivot[0])) *100\n",
    "purpose_data_pivot = purpose_data_pivot.reset_index()    # сбросим мультииндексы в сводной таблице\n",
    "purpose_data_pivot.sort_values('percent')"
   ]
  },
  {
   "cell_type": "code",
   "execution_count": 78,
   "id": "66f3c056-6dd1-410f-856b-e903b17891e4",
   "metadata": {},
   "outputs": [
    {
     "data": {
      "image/png": "[encoded data removed]",
      "text/plain": [
       "<Figure size 640x480 with 1 Axes>"
      ]
     },
     "metadata": {},
     "output_type": "display_data"
    }
   ],
   "source": [
    "# строим диаграмму\n",
    "\n",
    "sns.barplot(y='purpose_category',x='percent',data = purpose_data_pivot, palette='Pastel2_r')\n",
    "plt.xlabel('% задолженности')\n",
    "plt.ylabel('Цели кредита')\n",
    "plt.show()    "
   ]
  },
  {
   "cell_type": "markdown",
   "id": "3147a695-26e0-4d81-b257-d58e1d4e83b7",
   "metadata": {},
   "source": [
    "### Вывод 4:"
   ]
  },
  {
   "cell_type": "markdown",
   "id": "b4ab5b75-e0b6-4fbb-b066-682fb9b54de7",
   "metadata": {},
   "source": [
    "Самыми проблемными, с точки зрения возврата, являются кредиты на покупку автомобиля.\n",
    "\n",
    "Кредиты на операции с недвижимостью и на получение образования берут самые добропорядочные заёмщики."
   ]
  },
  {
   "cell_type": "markdown",
   "id": "f208af46-d5e5-4939-9326-e1de57181bf6",
   "metadata": {},
   "source": [
    "## Общий вывод\n",
    "\n",
    "* лица без детей, с средним или выше среднего доходом, берущие кредит с целью улучшения жилищных условий или на другие операции с недвижимостью, являются наиболее надежной частью заёмщиков;    \n",
    "\n",
    "\n",
    "* лица, не состоящие в официальном браке, но имеющими 2-х и более детей, с средним и низким доходом, желающие потратить заёмные средства на покупку автомобиля,  наиболее склонны к нарушению договорных обязательств и погашению кредита в срок."
   ]
  },
  {
   "cell_type": "code",
   "execution_count": null,
   "id": "0417c0d4-0a37-4e31-9fd7-b3dea5c9476b",
   "metadata": {},
   "outputs": [],
   "source": []
  }
 ],
 "metadata": {
  "kernelspec": {
   "display_name": "Python 3 (ipykernel)",
   "language": "python",
   "name": "python3"
  },
  "language_info": {
   "codemirror_mode": {
    "name": "ipython",
    "version": 3
   },
   "file_extension": ".py",
   "mimetype": "text/x-python",
   "name": "python",
   "nbconvert_exporter": "python",
   "pygments_lexer": "ipython3",
   "version": "3.11.5"
  }
 },
 "nbformat": 4,
 "nbformat_minor": 5
}
